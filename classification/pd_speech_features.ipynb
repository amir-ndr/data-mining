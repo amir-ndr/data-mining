{
 "cells": [
  {
   "cell_type": "markdown",
   "id": "4135fd3a-5831-405f-aac4-d7cc2f0e2e7e",
   "metadata": {},
   "source": [
    "# **pd_speech_features classification**"
   ]
  },
  {
   "cell_type": "markdown",
   "id": "acf2b3c1-bee0-4049-bb07-0109f05f616f",
   "metadata": {},
   "source": [
    "### import libraries"
   ]
  },
  {
   "cell_type": "code",
   "execution_count": 1,
   "id": "f2b154aa-e8f4-4675-81f5-dca1fbc235d5",
   "metadata": {},
   "outputs": [],
   "source": [
    "import pandas as pd\n",
    "import numpy as np\n",
    "import matplotlib.pyplot as plt\n",
    "import seaborn as sns\n",
    "from sklearn.model_selection import cross_val_score\n",
    "from sklearn.metrics import r2_score\n",
    "from sklearn.preprocessing import StandardScaler\n",
    "from sklearn.model_selection import train_test_split\n",
    "from sklearn.tree import DecisionTreeClassifier\n",
    "from sklearn import metrics\n",
    "from sklearn.metrics import classification_report, confusion_matrix\n",
    "from sklearn.metrics import f1_score\n",
    "from sklearn.neighbors import KNeighborsClassifier\n",
    "from sklearn import svm\n",
    "from sklearn.ensemble import RandomForestClassifier\n",
    "from sklearn.metrics import roc_auc_score, roc_curve\n",
    "from sklearn.decomposition import PCA"
   ]
  },
  {
   "cell_type": "markdown",
   "id": "679a4815-30e0-4970-b732-d03d5075c26d",
   "metadata": {},
   "source": [
    "### read dataset"
   ]
  },
  {
   "cell_type": "code",
   "execution_count": 3,
   "id": "aa9d5543-77b9-40f9-82cd-b36c43dd7385",
   "metadata": {},
   "outputs": [
    {
     "data": {
      "text/html": [
       "<div>\n",
       "<style scoped>\n",
       "    .dataframe tbody tr th:only-of-type {\n",
       "        vertical-align: middle;\n",
       "    }\n",
       "\n",
       "    .dataframe tbody tr th {\n",
       "        vertical-align: top;\n",
       "    }\n",
       "\n",
       "    .dataframe thead th {\n",
       "        text-align: right;\n",
       "    }\n",
       "</style>\n",
       "<table border=\"1\" class=\"dataframe\">\n",
       "  <thead>\n",
       "    <tr style=\"text-align: right;\">\n",
       "      <th></th>\n",
       "      <th>Unnamed: 0</th>\n",
       "      <th>Unnamed: 1</th>\n",
       "      <th>Baseline Features</th>\n",
       "      <th>Unnamed: 3</th>\n",
       "      <th>Unnamed: 4</th>\n",
       "      <th>Unnamed: 5</th>\n",
       "      <th>Unnamed: 6</th>\n",
       "      <th>Unnamed: 7</th>\n",
       "      <th>Unnamed: 8</th>\n",
       "      <th>Unnamed: 9</th>\n",
       "      <th>...</th>\n",
       "      <th>Unnamed: 745</th>\n",
       "      <th>Unnamed: 746</th>\n",
       "      <th>Unnamed: 747</th>\n",
       "      <th>Unnamed: 748</th>\n",
       "      <th>Unnamed: 749</th>\n",
       "      <th>Unnamed: 750</th>\n",
       "      <th>Unnamed: 751</th>\n",
       "      <th>Unnamed: 752</th>\n",
       "      <th>Unnamed: 753</th>\n",
       "      <th>Unnamed: 754</th>\n",
       "    </tr>\n",
       "  </thead>\n",
       "  <tbody>\n",
       "    <tr>\n",
       "      <th>0</th>\n",
       "      <td>id</td>\n",
       "      <td>gender</td>\n",
       "      <td>PPE</td>\n",
       "      <td>DFA</td>\n",
       "      <td>RPDE</td>\n",
       "      <td>numPulses</td>\n",
       "      <td>numPeriodsPulses</td>\n",
       "      <td>meanPeriodPulses</td>\n",
       "      <td>stdDevPeriodPulses</td>\n",
       "      <td>locPctJitter</td>\n",
       "      <td>...</td>\n",
       "      <td>tqwt_kurtosisValue_dec_28</td>\n",
       "      <td>tqwt_kurtosisValue_dec_29</td>\n",
       "      <td>tqwt_kurtosisValue_dec_30</td>\n",
       "      <td>tqwt_kurtosisValue_dec_31</td>\n",
       "      <td>tqwt_kurtosisValue_dec_32</td>\n",
       "      <td>tqwt_kurtosisValue_dec_33</td>\n",
       "      <td>tqwt_kurtosisValue_dec_34</td>\n",
       "      <td>tqwt_kurtosisValue_dec_35</td>\n",
       "      <td>tqwt_kurtosisValue_dec_36</td>\n",
       "      <td>class</td>\n",
       "    </tr>\n",
       "    <tr>\n",
       "      <th>1</th>\n",
       "      <td>0</td>\n",
       "      <td>1</td>\n",
       "      <td>0.85247</td>\n",
       "      <td>0.71826</td>\n",
       "      <td>0.57227</td>\n",
       "      <td>240</td>\n",
       "      <td>239</td>\n",
       "      <td>0.00806353</td>\n",
       "      <td>8.68E-05</td>\n",
       "      <td>0.00218</td>\n",
       "      <td>...</td>\n",
       "      <td>1.562</td>\n",
       "      <td>2.6445</td>\n",
       "      <td>3.8686</td>\n",
       "      <td>4.2105</td>\n",
       "      <td>5.1221</td>\n",
       "      <td>4.4625</td>\n",
       "      <td>2.6202</td>\n",
       "      <td>3.0004</td>\n",
       "      <td>18.9405</td>\n",
       "      <td>1</td>\n",
       "    </tr>\n",
       "    <tr>\n",
       "      <th>2</th>\n",
       "      <td>0</td>\n",
       "      <td>1</td>\n",
       "      <td>0.76686</td>\n",
       "      <td>0.69481</td>\n",
       "      <td>0.53966</td>\n",
       "      <td>234</td>\n",
       "      <td>233</td>\n",
       "      <td>0.008258256</td>\n",
       "      <td>7.31E-05</td>\n",
       "      <td>0.00195</td>\n",
       "      <td>...</td>\n",
       "      <td>1.5589</td>\n",
       "      <td>3.6107</td>\n",
       "      <td>23.5155</td>\n",
       "      <td>14.1962</td>\n",
       "      <td>11.0261</td>\n",
       "      <td>9.5082</td>\n",
       "      <td>6.5245</td>\n",
       "      <td>6.3431</td>\n",
       "      <td>45.178</td>\n",
       "      <td>1</td>\n",
       "    </tr>\n",
       "    <tr>\n",
       "      <th>3</th>\n",
       "      <td>0</td>\n",
       "      <td>1</td>\n",
       "      <td>0.85083</td>\n",
       "      <td>0.67604</td>\n",
       "      <td>0.58982</td>\n",
       "      <td>232</td>\n",
       "      <td>231</td>\n",
       "      <td>0.00833959</td>\n",
       "      <td>6.04E-05</td>\n",
       "      <td>0.00176</td>\n",
       "      <td>...</td>\n",
       "      <td>1.5643</td>\n",
       "      <td>2.3308</td>\n",
       "      <td>9.4959</td>\n",
       "      <td>10.7458</td>\n",
       "      <td>11.0177</td>\n",
       "      <td>4.8066</td>\n",
       "      <td>2.9199</td>\n",
       "      <td>3.1495</td>\n",
       "      <td>4.7666</td>\n",
       "      <td>1</td>\n",
       "    </tr>\n",
       "    <tr>\n",
       "      <th>4</th>\n",
       "      <td>1</td>\n",
       "      <td>0</td>\n",
       "      <td>0.41121</td>\n",
       "      <td>0.79672</td>\n",
       "      <td>0.59257</td>\n",
       "      <td>178</td>\n",
       "      <td>177</td>\n",
       "      <td>0.010857733</td>\n",
       "      <td>0.000182739</td>\n",
       "      <td>0.00419</td>\n",
       "      <td>...</td>\n",
       "      <td>3.7805</td>\n",
       "      <td>3.5664</td>\n",
       "      <td>5.2558</td>\n",
       "      <td>14.0403</td>\n",
       "      <td>4.2235</td>\n",
       "      <td>4.6857</td>\n",
       "      <td>4.846</td>\n",
       "      <td>6.265</td>\n",
       "      <td>4.0603</td>\n",
       "      <td>1</td>\n",
       "    </tr>\n",
       "  </tbody>\n",
       "</table>\n",
       "<p>5 rows × 755 columns</p>\n",
       "</div>"
      ],
      "text/plain": [
       "  Unnamed: 0 Unnamed: 1 Baseline Features Unnamed: 3 Unnamed: 4 Unnamed: 5  \\\n",
       "0         id     gender               PPE        DFA       RPDE  numPulses   \n",
       "1          0          1           0.85247    0.71826    0.57227        240   \n",
       "2          0          1           0.76686    0.69481    0.53966        234   \n",
       "3          0          1           0.85083    0.67604    0.58982        232   \n",
       "4          1          0           0.41121    0.79672    0.59257        178   \n",
       "\n",
       "         Unnamed: 6        Unnamed: 7          Unnamed: 8    Unnamed: 9  ...  \\\n",
       "0  numPeriodsPulses  meanPeriodPulses  stdDevPeriodPulses  locPctJitter  ...   \n",
       "1               239        0.00806353            8.68E-05       0.00218  ...   \n",
       "2               233       0.008258256            7.31E-05       0.00195  ...   \n",
       "3               231        0.00833959            6.04E-05       0.00176  ...   \n",
       "4               177       0.010857733         0.000182739       0.00419  ...   \n",
       "\n",
       "                Unnamed: 745               Unnamed: 746  \\\n",
       "0  tqwt_kurtosisValue_dec_28  tqwt_kurtosisValue_dec_29   \n",
       "1                      1.562                     2.6445   \n",
       "2                     1.5589                     3.6107   \n",
       "3                     1.5643                     2.3308   \n",
       "4                     3.7805                     3.5664   \n",
       "\n",
       "                Unnamed: 747               Unnamed: 748  \\\n",
       "0  tqwt_kurtosisValue_dec_30  tqwt_kurtosisValue_dec_31   \n",
       "1                     3.8686                     4.2105   \n",
       "2                    23.5155                    14.1962   \n",
       "3                     9.4959                    10.7458   \n",
       "4                     5.2558                    14.0403   \n",
       "\n",
       "                Unnamed: 749               Unnamed: 750  \\\n",
       "0  tqwt_kurtosisValue_dec_32  tqwt_kurtosisValue_dec_33   \n",
       "1                     5.1221                     4.4625   \n",
       "2                    11.0261                     9.5082   \n",
       "3                    11.0177                     4.8066   \n",
       "4                     4.2235                     4.6857   \n",
       "\n",
       "                Unnamed: 751               Unnamed: 752  \\\n",
       "0  tqwt_kurtosisValue_dec_34  tqwt_kurtosisValue_dec_35   \n",
       "1                     2.6202                     3.0004   \n",
       "2                     6.5245                     6.3431   \n",
       "3                     2.9199                     3.1495   \n",
       "4                      4.846                      6.265   \n",
       "\n",
       "                Unnamed: 753 Unnamed: 754  \n",
       "0  tqwt_kurtosisValue_dec_36        class  \n",
       "1                    18.9405            1  \n",
       "2                     45.178            1  \n",
       "3                     4.7666            1  \n",
       "4                     4.0603            1  \n",
       "\n",
       "[5 rows x 755 columns]"
      ]
     },
     "execution_count": 3,
     "metadata": {},
     "output_type": "execute_result"
    }
   ],
   "source": [
    "df = pd.read_csv('pd_speech_features.csv')\n",
    "df.head()"
   ]
  },
  {
   "cell_type": "markdown",
   "id": "ebb26990-c88f-4483-b941-18dc79a6e656",
   "metadata": {},
   "source": [
    "### information about dataset"
   ]
  },
  {
   "cell_type": "code",
   "execution_count": 4,
   "id": "dcfd1b24-c6cb-4666-b470-fea0bfaf2084",
   "metadata": {},
   "outputs": [
    {
     "data": {
      "text/plain": [
       "(757, 755)"
      ]
     },
     "execution_count": 4,
     "metadata": {},
     "output_type": "execute_result"
    }
   ],
   "source": [
    "df.shape"
   ]
  },
  {
   "cell_type": "code",
   "execution_count": 5,
   "id": "5745307e-d41f-4f73-8ab7-09101f8688b1",
   "metadata": {},
   "outputs": [
    {
     "data": {
      "text/plain": [
       "1"
      ]
     },
     "execution_count": 5,
     "metadata": {},
     "output_type": "execute_result"
    }
   ],
   "source": [
    "df.duplicated().sum()"
   ]
  },
  {
   "cell_type": "code",
   "execution_count": 6,
   "id": "d746b3c8-0cc2-47da-9d0b-cccc359720a7",
   "metadata": {},
   "outputs": [],
   "source": [
    "df = df.drop_duplicates().reset_index(drop=True)"
   ]
  },
  {
   "cell_type": "code",
   "execution_count": 7,
   "id": "3774e788-00d6-491b-a5e4-8c6206eb4bc6",
   "metadata": {},
   "outputs": [
    {
     "data": {
      "text/plain": [
       "0"
      ]
     },
     "execution_count": 7,
     "metadata": {},
     "output_type": "execute_result"
    }
   ],
   "source": [
    "df.duplicated().sum()"
   ]
  },
  {
   "cell_type": "code",
   "execution_count": 8,
   "id": "8fbd2552-e49d-4edf-aea6-f04327bc583c",
   "metadata": {},
   "outputs": [
    {
     "data": {
      "text/plain": [
       "0"
      ]
     },
     "execution_count": 8,
     "metadata": {},
     "output_type": "execute_result"
    }
   ],
   "source": [
    "df.isnull().sum().sum()"
   ]
  },
  {
   "cell_type": "markdown",
   "id": "f257ca42-2bae-4716-85b5-a94a2435970a",
   "metadata": {},
   "source": [
    "### fixing columns"
   ]
  },
  {
   "cell_type": "code",
   "execution_count": 10,
   "id": "3686560d-cd2a-43d7-a44a-1a89a1e84034",
   "metadata": {},
   "outputs": [],
   "source": [
    "df.columns = df.iloc[0]"
   ]
  },
  {
   "cell_type": "code",
   "execution_count": 11,
   "id": "fd3e5fe6-2b90-406a-b2e6-f1b54d945b94",
   "metadata": {},
   "outputs": [],
   "source": [
    "df.drop(index=[0], inplace=True)"
   ]
  },
  {
   "cell_type": "code",
   "execution_count": 12,
   "id": "f6441688-5fc1-4bee-b70d-1c75857eec66",
   "metadata": {},
   "outputs": [
    {
     "data": {
      "text/html": [
       "<div>\n",
       "<style scoped>\n",
       "    .dataframe tbody tr th:only-of-type {\n",
       "        vertical-align: middle;\n",
       "    }\n",
       "\n",
       "    .dataframe tbody tr th {\n",
       "        vertical-align: top;\n",
       "    }\n",
       "\n",
       "    .dataframe thead th {\n",
       "        text-align: right;\n",
       "    }\n",
       "</style>\n",
       "<table border=\"1\" class=\"dataframe\">\n",
       "  <thead>\n",
       "    <tr style=\"text-align: right;\">\n",
       "      <th></th>\n",
       "      <th>id</th>\n",
       "      <th>gender</th>\n",
       "      <th>PPE</th>\n",
       "      <th>DFA</th>\n",
       "      <th>RPDE</th>\n",
       "      <th>numPulses</th>\n",
       "      <th>numPeriodsPulses</th>\n",
       "      <th>meanPeriodPulses</th>\n",
       "      <th>stdDevPeriodPulses</th>\n",
       "      <th>locPctJitter</th>\n",
       "      <th>...</th>\n",
       "      <th>tqwt_kurtosisValue_dec_28</th>\n",
       "      <th>tqwt_kurtosisValue_dec_29</th>\n",
       "      <th>tqwt_kurtosisValue_dec_30</th>\n",
       "      <th>tqwt_kurtosisValue_dec_31</th>\n",
       "      <th>tqwt_kurtosisValue_dec_32</th>\n",
       "      <th>tqwt_kurtosisValue_dec_33</th>\n",
       "      <th>tqwt_kurtosisValue_dec_34</th>\n",
       "      <th>tqwt_kurtosisValue_dec_35</th>\n",
       "      <th>tqwt_kurtosisValue_dec_36</th>\n",
       "      <th>class</th>\n",
       "    </tr>\n",
       "  </thead>\n",
       "  <tbody>\n",
       "    <tr>\n",
       "      <th>1</th>\n",
       "      <td>0</td>\n",
       "      <td>1</td>\n",
       "      <td>0.85247</td>\n",
       "      <td>0.71826</td>\n",
       "      <td>0.57227</td>\n",
       "      <td>240</td>\n",
       "      <td>239</td>\n",
       "      <td>0.00806353</td>\n",
       "      <td>8.68E-05</td>\n",
       "      <td>0.00218</td>\n",
       "      <td>...</td>\n",
       "      <td>1.562</td>\n",
       "      <td>2.6445</td>\n",
       "      <td>3.8686</td>\n",
       "      <td>4.2105</td>\n",
       "      <td>5.1221</td>\n",
       "      <td>4.4625</td>\n",
       "      <td>2.6202</td>\n",
       "      <td>3.0004</td>\n",
       "      <td>18.9405</td>\n",
       "      <td>1</td>\n",
       "    </tr>\n",
       "    <tr>\n",
       "      <th>2</th>\n",
       "      <td>0</td>\n",
       "      <td>1</td>\n",
       "      <td>0.76686</td>\n",
       "      <td>0.69481</td>\n",
       "      <td>0.53966</td>\n",
       "      <td>234</td>\n",
       "      <td>233</td>\n",
       "      <td>0.008258256</td>\n",
       "      <td>7.31E-05</td>\n",
       "      <td>0.00195</td>\n",
       "      <td>...</td>\n",
       "      <td>1.5589</td>\n",
       "      <td>3.6107</td>\n",
       "      <td>23.5155</td>\n",
       "      <td>14.1962</td>\n",
       "      <td>11.0261</td>\n",
       "      <td>9.5082</td>\n",
       "      <td>6.5245</td>\n",
       "      <td>6.3431</td>\n",
       "      <td>45.178</td>\n",
       "      <td>1</td>\n",
       "    </tr>\n",
       "    <tr>\n",
       "      <th>3</th>\n",
       "      <td>0</td>\n",
       "      <td>1</td>\n",
       "      <td>0.85083</td>\n",
       "      <td>0.67604</td>\n",
       "      <td>0.58982</td>\n",
       "      <td>232</td>\n",
       "      <td>231</td>\n",
       "      <td>0.00833959</td>\n",
       "      <td>6.04E-05</td>\n",
       "      <td>0.00176</td>\n",
       "      <td>...</td>\n",
       "      <td>1.5643</td>\n",
       "      <td>2.3308</td>\n",
       "      <td>9.4959</td>\n",
       "      <td>10.7458</td>\n",
       "      <td>11.0177</td>\n",
       "      <td>4.8066</td>\n",
       "      <td>2.9199</td>\n",
       "      <td>3.1495</td>\n",
       "      <td>4.7666</td>\n",
       "      <td>1</td>\n",
       "    </tr>\n",
       "    <tr>\n",
       "      <th>4</th>\n",
       "      <td>1</td>\n",
       "      <td>0</td>\n",
       "      <td>0.41121</td>\n",
       "      <td>0.79672</td>\n",
       "      <td>0.59257</td>\n",
       "      <td>178</td>\n",
       "      <td>177</td>\n",
       "      <td>0.010857733</td>\n",
       "      <td>0.000182739</td>\n",
       "      <td>0.00419</td>\n",
       "      <td>...</td>\n",
       "      <td>3.7805</td>\n",
       "      <td>3.5664</td>\n",
       "      <td>5.2558</td>\n",
       "      <td>14.0403</td>\n",
       "      <td>4.2235</td>\n",
       "      <td>4.6857</td>\n",
       "      <td>4.846</td>\n",
       "      <td>6.265</td>\n",
       "      <td>4.0603</td>\n",
       "      <td>1</td>\n",
       "    </tr>\n",
       "    <tr>\n",
       "      <th>5</th>\n",
       "      <td>1</td>\n",
       "      <td>0</td>\n",
       "      <td>0.3279</td>\n",
       "      <td>0.79782</td>\n",
       "      <td>0.53028</td>\n",
       "      <td>236</td>\n",
       "      <td>235</td>\n",
       "      <td>0.008161574</td>\n",
       "      <td>0.002668863</td>\n",
       "      <td>0.00535</td>\n",
       "      <td>...</td>\n",
       "      <td>6.1727</td>\n",
       "      <td>5.8416</td>\n",
       "      <td>6.0805</td>\n",
       "      <td>5.7621</td>\n",
       "      <td>7.7817</td>\n",
       "      <td>11.6891</td>\n",
       "      <td>8.2103</td>\n",
       "      <td>5.0559</td>\n",
       "      <td>6.1164</td>\n",
       "      <td>1</td>\n",
       "    </tr>\n",
       "  </tbody>\n",
       "</table>\n",
       "<p>5 rows × 755 columns</p>\n",
       "</div>"
      ],
      "text/plain": [
       "0 id gender      PPE      DFA     RPDE numPulses numPeriodsPulses  \\\n",
       "1  0      1  0.85247  0.71826  0.57227       240              239   \n",
       "2  0      1  0.76686  0.69481  0.53966       234              233   \n",
       "3  0      1  0.85083  0.67604  0.58982       232              231   \n",
       "4  1      0  0.41121  0.79672  0.59257       178              177   \n",
       "5  1      0   0.3279  0.79782  0.53028       236              235   \n",
       "\n",
       "0 meanPeriodPulses stdDevPeriodPulses locPctJitter  ...  \\\n",
       "1       0.00806353           8.68E-05      0.00218  ...   \n",
       "2      0.008258256           7.31E-05      0.00195  ...   \n",
       "3       0.00833959           6.04E-05      0.00176  ...   \n",
       "4      0.010857733        0.000182739      0.00419  ...   \n",
       "5      0.008161574        0.002668863      0.00535  ...   \n",
       "\n",
       "0 tqwt_kurtosisValue_dec_28 tqwt_kurtosisValue_dec_29  \\\n",
       "1                     1.562                    2.6445   \n",
       "2                    1.5589                    3.6107   \n",
       "3                    1.5643                    2.3308   \n",
       "4                    3.7805                    3.5664   \n",
       "5                    6.1727                    5.8416   \n",
       "\n",
       "0 tqwt_kurtosisValue_dec_30 tqwt_kurtosisValue_dec_31  \\\n",
       "1                    3.8686                    4.2105   \n",
       "2                   23.5155                   14.1962   \n",
       "3                    9.4959                   10.7458   \n",
       "4                    5.2558                   14.0403   \n",
       "5                    6.0805                    5.7621   \n",
       "\n",
       "0 tqwt_kurtosisValue_dec_32 tqwt_kurtosisValue_dec_33  \\\n",
       "1                    5.1221                    4.4625   \n",
       "2                   11.0261                    9.5082   \n",
       "3                   11.0177                    4.8066   \n",
       "4                    4.2235                    4.6857   \n",
       "5                    7.7817                   11.6891   \n",
       "\n",
       "0 tqwt_kurtosisValue_dec_34 tqwt_kurtosisValue_dec_35  \\\n",
       "1                    2.6202                    3.0004   \n",
       "2                    6.5245                    6.3431   \n",
       "3                    2.9199                    3.1495   \n",
       "4                     4.846                     6.265   \n",
       "5                    8.2103                    5.0559   \n",
       "\n",
       "0 tqwt_kurtosisValue_dec_36 class  \n",
       "1                   18.9405     1  \n",
       "2                    45.178     1  \n",
       "3                    4.7666     1  \n",
       "4                    4.0603     1  \n",
       "5                    6.1164     1  \n",
       "\n",
       "[5 rows x 755 columns]"
      ]
     },
     "execution_count": 12,
     "metadata": {},
     "output_type": "execute_result"
    }
   ],
   "source": [
    "df.head()"
   ]
  },
  {
   "cell_type": "markdown",
   "id": "8d7f506f-9d5b-4843-9a8d-5fd0ee95d986",
   "metadata": {},
   "source": [
    "### size of records for each class"
   ]
  },
  {
   "cell_type": "code",
   "execution_count": 13,
   "id": "4e54ba5a-87a0-4fdc-86c3-bb38f4d8d102",
   "metadata": {},
   "outputs": [
    {
     "data": {
      "text/plain": [
       "class\n",
       "0    192\n",
       "1    563\n",
       "dtype: int64"
      ]
     },
     "execution_count": 13,
     "metadata": {},
     "output_type": "execute_result"
    }
   ],
   "source": [
    "df.groupby('class').size()"
   ]
  },
  {
   "cell_type": "markdown",
   "id": "b7576832-43d2-44f1-80d9-d27aeceb982b",
   "metadata": {},
   "source": [
    "This is an imbalanced dataset as you can see"
   ]
  },
  {
   "cell_type": "markdown",
   "id": "ba9498af-3bdf-40f5-ab96-032764ce8c28",
   "metadata": {},
   "source": [
    "### deleting unrelated rows"
   ]
  },
  {
   "cell_type": "code",
   "execution_count": 14,
   "id": "281c6655-a392-493a-b684-80722ddbdc2d",
   "metadata": {},
   "outputs": [],
   "source": [
    "df.drop(columns=['id'], inplace=True)"
   ]
  },
  {
   "cell_type": "code",
   "execution_count": 15,
   "id": "a1fbc3b6-9a42-4be4-9d4c-1b91d6c3306f",
   "metadata": {},
   "outputs": [
    {
     "data": {
      "text/plain": [
       "(755, 754)"
      ]
     },
     "execution_count": 15,
     "metadata": {},
     "output_type": "execute_result"
    }
   ],
   "source": [
    "df.shape"
   ]
  },
  {
   "cell_type": "code",
   "execution_count": 16,
   "id": "8ef5c1b2-d3db-4339-a1e9-f29560eab58d",
   "metadata": {},
   "outputs": [],
   "source": [
    "df['class'] = df[\"class\"].astype(str).astype(int)"
   ]
  },
  {
   "cell_type": "markdown",
   "id": "6ba613e3-fb71-4cf4-b812-e87947c4dab2",
   "metadata": {},
   "source": [
    "### building features and target arrays"
   ]
  },
  {
   "cell_type": "code",
   "execution_count": 17,
   "id": "d575cf62-d58e-4cc9-ab5f-9c7e1dc8fe76",
   "metadata": {},
   "outputs": [],
   "source": [
    "X = df.iloc[:, :-1].values"
   ]
  },
  {
   "cell_type": "code",
   "execution_count": 18,
   "id": "f9f6d69c-c0af-45f7-9edf-c08b15cf9315",
   "metadata": {},
   "outputs": [],
   "source": [
    "y = df['class']"
   ]
  },
  {
   "cell_type": "code",
   "execution_count": 19,
   "id": "c3af94a1-c88f-466f-8714-f7ee1c5c31de",
   "metadata": {},
   "outputs": [
    {
     "data": {
      "text/plain": [
       "(755, 753)"
      ]
     },
     "execution_count": 19,
     "metadata": {},
     "output_type": "execute_result"
    }
   ],
   "source": [
    "X.shape"
   ]
  },
  {
   "cell_type": "code",
   "execution_count": 20,
   "id": "db777fe6-4272-4b50-af0b-035e4c7fa8c2",
   "metadata": {},
   "outputs": [
    {
     "data": {
      "text/plain": [
       "(755,)"
      ]
     },
     "execution_count": 20,
     "metadata": {},
     "output_type": "execute_result"
    }
   ],
   "source": [
    "y.shape"
   ]
  },
  {
   "cell_type": "markdown",
   "id": "80be9bb4-b39c-43ba-b56b-ce74fd877d67",
   "metadata": {},
   "source": [
    "### spilitting data"
   ]
  },
  {
   "cell_type": "code",
   "execution_count": 21,
   "id": "a65bb5fa-6568-4c02-817e-12f062426bd5",
   "metadata": {},
   "outputs": [],
   "source": [
    "X_train, X_test, y_train, y_test = train_test_split(X, y, test_size=0.3, random_state=42)"
   ]
  },
  {
   "cell_type": "code",
   "execution_count": 22,
   "id": "474e0770-b3e1-4f8c-adb4-64cbf1afc0cc",
   "metadata": {},
   "outputs": [
    {
     "name": "stdout",
     "output_type": "stream",
     "text": [
      "(528, 753) (227, 753)\n"
     ]
    }
   ],
   "source": [
    "print(X_train.shape, X_test.shape)"
   ]
  },
  {
   "cell_type": "markdown",
   "id": "0121ade1-5a1b-4d44-997a-fde7135893d7",
   "metadata": {},
   "source": [
    "### scaling data"
   ]
  },
  {
   "cell_type": "code",
   "execution_count": 23,
   "id": "bc863015-c18d-4da4-b79a-7c4a754a7495",
   "metadata": {},
   "outputs": [],
   "source": [
    "sc = StandardScaler()\n",
    "X_train = sc.fit_transform(X_train)"
   ]
  },
  {
   "cell_type": "code",
   "execution_count": 24,
   "id": "52000c25-e621-4c9c-8151-ce43acfc32d2",
   "metadata": {},
   "outputs": [],
   "source": [
    "X_test = sc.transform (X_test)"
   ]
  },
  {
   "cell_type": "markdown",
   "id": "bd99c336-86bc-4f7d-a703-11caaaf6cf04",
   "metadata": {},
   "source": [
    "Let's start by examining if we have a model that gives an output of 1 for each input, what our accuracy will be for the training and test data.\n",
    "\n",
    "As you can see in the cell below, the accuracy of the training data is 75%, and the accuracy of the test data is 73%, which is somewhat acceptable. However, we need to improve this accuracy with machine learning algorithms."
   ]
  },
  {
   "cell_type": "code",
   "execution_count": 23,
   "id": "48b2cc83-a125-4d3e-bf84-5fe577917ceb",
   "metadata": {},
   "outputs": [
    {
     "name": "stdout",
     "output_type": "stream",
     "text": [
      "Test set Accuracy:  0.73568281938326\n",
      "train set Accuracy:  0.75\n"
     ]
    }
   ],
   "source": [
    "test_set_acc_one= metrics.accuracy_score(y_test, np.ones(y_test.shape))\n",
    "train_set_acc_one = metrics.accuracy_score(y_train, np.ones(y_train.shape))\n",
    "\n",
    "print(\"Test set Accuracy: \", test_set_acc_one)\n",
    "print(\"train set Accuracy: \", train_set_acc_one)"
   ]
  },
  {
   "cell_type": "markdown",
   "id": "57219ecd-032a-4141-aad3-6f2fd3c4b249",
   "metadata": {},
   "source": [
    "Now we are creating a dataframe called \"df_acc_before_pca\" to store the accuracies of our 4 models before performing the PCA operation. These accuracies include the accuracy of the test data, the accuracy of the training data, cross-validation accuracy, and ROC-AUC score."
   ]
  },
  {
   "cell_type": "code",
   "execution_count": 34,
   "id": "370bc1d3-956c-4bd3-9a04-ed83827fd46d",
   "metadata": {},
   "outputs": [],
   "source": [
    "df_acc_before_pca = pd.DataFrame(columns=['cv_acc', 'test_set_acc', 'train_set_acc', 'ROC-AUC Score'])"
   ]
  },
  {
   "cell_type": "markdown",
   "id": "44cb092d-3541-46c8-9c0d-ef6af2178bbb",
   "metadata": {},
   "source": [
    "# DecisionTreeClassifier"
   ]
  },
  {
   "cell_type": "markdown",
   "id": "d86bcea6-f5a4-44af-92fd-beb19d448b31",
   "metadata": {},
   "source": [
    "### finding depth"
   ]
  },
  {
   "cell_type": "code",
   "execution_count": 25,
   "id": "f53ebc0d-efb0-4f1e-8211-eeea85b58afb",
   "metadata": {},
   "outputs": [],
   "source": [
    "depth_list = [3, 4, 5, 6, 7, 8, 10, 12, 15, 18, 20, 22, 25]\n",
    "df_tree = pd.DataFrame()\n",
    "mean_list = []\n",
    "\n",
    "for depth in depth_list:\n",
    "    tree = DecisionTreeClassifier(criterion=\"entropy\", max_depth = depth)\n",
    "    scores = cross_val_score(tree, X_train, y_train, cv=5)\n",
    "    mean = scores.mean()\n",
    "    mean_list.append(mean)\n",
    "df_tree['depth'] = depth_list\n",
    "df_tree['mean acc in cross_validation'] = mean_list"
   ]
  },
  {
   "cell_type": "code",
   "execution_count": 26,
   "id": "300f6818-f08d-4b8d-bbe3-4b40b97c7451",
   "metadata": {},
   "outputs": [
    {
     "data": {
      "text/html": [
       "<div>\n",
       "<style scoped>\n",
       "    .dataframe tbody tr th:only-of-type {\n",
       "        vertical-align: middle;\n",
       "    }\n",
       "\n",
       "    .dataframe tbody tr th {\n",
       "        vertical-align: top;\n",
       "    }\n",
       "\n",
       "    .dataframe thead th {\n",
       "        text-align: right;\n",
       "    }\n",
       "</style>\n",
       "<table border=\"1\" class=\"dataframe\">\n",
       "  <thead>\n",
       "    <tr style=\"text-align: right;\">\n",
       "      <th></th>\n",
       "      <th>depth</th>\n",
       "      <th>mean acc in cross_validation</th>\n",
       "    </tr>\n",
       "  </thead>\n",
       "  <tbody>\n",
       "    <tr>\n",
       "      <th>0</th>\n",
       "      <td>3</td>\n",
       "      <td>0.759497</td>\n",
       "    </tr>\n",
       "    <tr>\n",
       "      <th>1</th>\n",
       "      <td>4</td>\n",
       "      <td>0.753872</td>\n",
       "    </tr>\n",
       "    <tr>\n",
       "      <th>2</th>\n",
       "      <td>5</td>\n",
       "      <td>0.757664</td>\n",
       "    </tr>\n",
       "    <tr>\n",
       "      <th>3</th>\n",
       "      <td>6</td>\n",
       "      <td>0.738760</td>\n",
       "    </tr>\n",
       "    <tr>\n",
       "      <th>4</th>\n",
       "      <td>7</td>\n",
       "      <td>0.736855</td>\n",
       "    </tr>\n",
       "    <tr>\n",
       "      <th>5</th>\n",
       "      <td>8</td>\n",
       "      <td>0.736819</td>\n",
       "    </tr>\n",
       "    <tr>\n",
       "      <th>6</th>\n",
       "      <td>10</td>\n",
       "      <td>0.731159</td>\n",
       "    </tr>\n",
       "    <tr>\n",
       "      <th>7</th>\n",
       "      <td>12</td>\n",
       "      <td>0.731123</td>\n",
       "    </tr>\n",
       "    <tr>\n",
       "      <th>8</th>\n",
       "      <td>15</td>\n",
       "      <td>0.755723</td>\n",
       "    </tr>\n",
       "    <tr>\n",
       "      <th>9</th>\n",
       "      <td>18</td>\n",
       "      <td>0.742462</td>\n",
       "    </tr>\n",
       "    <tr>\n",
       "      <th>10</th>\n",
       "      <td>20</td>\n",
       "      <td>0.744456</td>\n",
       "    </tr>\n",
       "    <tr>\n",
       "      <th>11</th>\n",
       "      <td>22</td>\n",
       "      <td>0.744403</td>\n",
       "    </tr>\n",
       "    <tr>\n",
       "      <th>12</th>\n",
       "      <td>25</td>\n",
       "      <td>0.734951</td>\n",
       "    </tr>\n",
       "  </tbody>\n",
       "</table>\n",
       "</div>"
      ],
      "text/plain": [
       "    depth  mean acc in cross_validation\n",
       "0       3                      0.759497\n",
       "1       4                      0.753872\n",
       "2       5                      0.757664\n",
       "3       6                      0.738760\n",
       "4       7                      0.736855\n",
       "5       8                      0.736819\n",
       "6      10                      0.731159\n",
       "7      12                      0.731123\n",
       "8      15                      0.755723\n",
       "9      18                      0.742462\n",
       "10     20                      0.744456\n",
       "11     22                      0.744403\n",
       "12     25                      0.734951"
      ]
     },
     "execution_count": 26,
     "metadata": {},
     "output_type": "execute_result"
    }
   ],
   "source": [
    "df_tree"
   ]
  },
  {
   "cell_type": "markdown",
   "id": "a0f4f7c4-f4ce-4dfa-ae67-30aa2bb1671b",
   "metadata": {},
   "source": [
    "### fitting model"
   ]
  },
  {
   "cell_type": "code",
   "execution_count": 29,
   "id": "3142d804-7154-401f-b401-8951115dda4e",
   "metadata": {},
   "outputs": [],
   "source": [
    "tree = DecisionTreeClassifier(criterion=\"entropy\", max_depth = 5)\n",
    "tree.fit(X_train, y_train)\n",
    "predict_tree = tree.predict(X_test)"
   ]
  },
  {
   "cell_type": "markdown",
   "id": "9dbc2613-1da5-4f3d-adb9-8ddaa6219e38",
   "metadata": {},
   "source": [
    "### accuracy"
   ]
  },
  {
   "cell_type": "code",
   "execution_count": 30,
   "id": "c7f8f110-6303-4a19-81ff-88d3cc863849",
   "metadata": {},
   "outputs": [
    {
     "name": "stdout",
     "output_type": "stream",
     "text": [
      "Test set Accuracy:  0.8193832599118943\n",
      "Train set Accuracy:  0.9526515151515151\n",
      "[[154  13]\n",
      " [ 28  32]]\n",
      "              precision    recall  f1-score   support\n",
      "\n",
      "           0       0.71      0.53      0.61        60\n",
      "           1       0.85      0.92      0.88       167\n",
      "\n",
      "    accuracy                           0.82       227\n",
      "   macro avg       0.78      0.73      0.75       227\n",
      "weighted avg       0.81      0.82      0.81       227\n",
      "\n"
     ]
    },
    {
     "data": {
      "image/png": "[encoded data removed]",
      "text/plain": [
       "<Figure size 288x288 with 2 Axes>"
      ]
     },
     "metadata": {
      "needs_background": "light"
     },
     "output_type": "display_data"
    },
    {
     "name": "stdout",
     "output_type": "stream",
     "text": [
      "f1 is:  0.8825214899713467\n",
      "ROC-AUC Score is:  0.7277445109780439\n"
     ]
    },
    {
     "data": {
      "image/png": "[encoded data removed]",
      "text/plain": [
       "<Figure size 432x288 with 1 Axes>"
      ]
     },
     "metadata": {
      "needs_background": "light"
     },
     "output_type": "display_data"
    }
   ],
   "source": [
    "test_set_acc_tree = metrics.accuracy_score(y_test, predict_tree)\n",
    "train_set_acc_tree = metrics.accuracy_score(y_train, tree.predict(X_train))\n",
    "\n",
    "print(\"Test set Accuracy: \", test_set_acc_tree)\n",
    "print(\"Train set Accuracy: \", train_set_acc_tree)\n",
    "\n",
    "print(confusion_matrix(y_test, predict_tree, labels=[1,0]))\n",
    "print (classification_report(y_test, predict_tree))\n",
    "cm = confusion_matrix(y_test, predict_tree)\n",
    "fig, ax = plt.subplots(figsize=(4,4))\n",
    "sns.heatmap(cm, annot=True)\n",
    "plt.show()\n",
    "\n",
    "print('f1 is: ',f1_score(y_test, predict_tree))\n",
    "\n",
    "score_tree = roc_auc_score(y_test, predict_tree)\n",
    "print('ROC-AUC Score is: ', score_tree)\n",
    "fpr, tpr, thresholds = roc_curve(y_test, predict_tree)\n",
    "plt.plot(fpr, tpr, label='ROC Curve (area=%0.2f)' % score_tree)\n",
    "plt.plot([0,1], [0,1], 'k--')\n",
    "plt.legend()\n",
    "plt.show()"
   ]
  },
  {
   "cell_type": "markdown",
   "id": "22da004f-7cba-40cc-bc11-1582b7328151",
   "metadata": {},
   "source": [
    "As you can see, the test and training accuracies are 82% and 95%, respectively. You can also visualize the confusion matrix information in the chart above. The average accuracy of cross-validation is 75%, and the F1-score of this model is 88%. Additionally, its ROC-AUC score is 0.72."
   ]
  },
  {
   "cell_type": "markdown",
   "id": "99fa7321-2255-4730-900f-a85fab2bf799",
   "metadata": {},
   "source": [
    "### adding to the dataframe"
   ]
  },
  {
   "cell_type": "code",
   "execution_count": 32,
   "id": "8ad53640-7dd9-44b3-b394-ccb1b1ca2f57",
   "metadata": {},
   "outputs": [],
   "source": [
    "cv_acc = df_tree[df_tree.depth == 5]['mean acc in cross_validation'].values[0]\n",
    "all_acc_tree = [cv_acc, test_set_acc_tree, train_set_acc_tree, score_tree]"
   ]
  },
  {
   "cell_type": "code",
   "execution_count": 35,
   "id": "cb6a4591-d763-4269-ae38-f23c8014a632",
   "metadata": {},
   "outputs": [],
   "source": [
    "df_acc_before_pca.loc['DecisionTreeClassifier'] = all_acc_tree"
   ]
  },
  {
   "cell_type": "markdown",
   "id": "ee4d99af-d9a2-4bb6-8b46-afabcb800883",
   "metadata": {},
   "source": [
    "# KNeighborsClassifier"
   ]
  },
  {
   "cell_type": "markdown",
   "id": "ffe8d8ae-5ebf-4e9f-be44-45d78183bbbd",
   "metadata": {},
   "source": [
    "### find best parameter "
   ]
  },
  {
   "cell_type": "code",
   "execution_count": 36,
   "id": "14626c3c-414a-4e7b-b5bc-242a4478190a",
   "metadata": {},
   "outputs": [],
   "source": [
    "n_neighbors_list = [2,3,4,5,6,7,8,9,10]\n",
    "df_knn = pd.DataFrame()\n",
    "mean_list = []\n",
    "\n",
    "for k in n_neighbors_list:\n",
    "    knn = KNeighborsClassifier(n_neighbors=k)\n",
    "    scores = cross_val_score(knn, X_train, y_train, cv=5)\n",
    "    mean = scores.mean()\n",
    "    mean_list.append(mean)\n",
    "df_knn['n_neighbors'] = n_neighbors_list\n",
    "df_knn['mean acc in cross_validation'] = mean_list"
   ]
  },
  {
   "cell_type": "code",
   "execution_count": 37,
   "id": "7a8d72a4-5a00-4ecd-87ce-4a6ab919089f",
   "metadata": {},
   "outputs": [
    {
     "data": {
      "text/html": [
       "<div>\n",
       "<style scoped>\n",
       "    .dataframe tbody tr th:only-of-type {\n",
       "        vertical-align: middle;\n",
       "    }\n",
       "\n",
       "    .dataframe tbody tr th {\n",
       "        vertical-align: top;\n",
       "    }\n",
       "\n",
       "    .dataframe thead th {\n",
       "        text-align: right;\n",
       "    }\n",
       "</style>\n",
       "<table border=\"1\" class=\"dataframe\">\n",
       "  <thead>\n",
       "    <tr style=\"text-align: right;\">\n",
       "      <th></th>\n",
       "      <th>n_neighbors</th>\n",
       "      <th>mean acc in cross_validation</th>\n",
       "    </tr>\n",
       "  </thead>\n",
       "  <tbody>\n",
       "    <tr>\n",
       "      <th>0</th>\n",
       "      <td>2</td>\n",
       "      <td>0.857951</td>\n",
       "    </tr>\n",
       "    <tr>\n",
       "      <th>1</th>\n",
       "      <td>3</td>\n",
       "      <td>0.839048</td>\n",
       "    </tr>\n",
       "    <tr>\n",
       "      <th>2</th>\n",
       "      <td>4</td>\n",
       "      <td>0.829650</td>\n",
       "    </tr>\n",
       "    <tr>\n",
       "      <th>3</th>\n",
       "      <td>5</td>\n",
       "      <td>0.822031</td>\n",
       "    </tr>\n",
       "    <tr>\n",
       "      <th>4</th>\n",
       "      <td>6</td>\n",
       "      <td>0.820198</td>\n",
       "    </tr>\n",
       "    <tr>\n",
       "      <th>5</th>\n",
       "      <td>7</td>\n",
       "      <td>0.823989</td>\n",
       "    </tr>\n",
       "    <tr>\n",
       "      <th>6</th>\n",
       "      <td>8</td>\n",
       "      <td>0.829686</td>\n",
       "    </tr>\n",
       "    <tr>\n",
       "      <th>7</th>\n",
       "      <td>9</td>\n",
       "      <td>0.812579</td>\n",
       "    </tr>\n",
       "    <tr>\n",
       "      <th>8</th>\n",
       "      <td>10</td>\n",
       "      <td>0.823899</td>\n",
       "    </tr>\n",
       "  </tbody>\n",
       "</table>\n",
       "</div>"
      ],
      "text/plain": [
       "   n_neighbors  mean acc in cross_validation\n",
       "0            2                      0.857951\n",
       "1            3                      0.839048\n",
       "2            4                      0.829650\n",
       "3            5                      0.822031\n",
       "4            6                      0.820198\n",
       "5            7                      0.823989\n",
       "6            8                      0.829686\n",
       "7            9                      0.812579\n",
       "8           10                      0.823899"
      ]
     },
     "execution_count": 37,
     "metadata": {},
     "output_type": "execute_result"
    }
   ],
   "source": [
    "df_knn"
   ]
  },
  {
   "cell_type": "markdown",
   "id": "88c1c1ea-877c-4c11-ba1c-1f570f9696d1",
   "metadata": {},
   "source": [
    "### fitting model on train dataset"
   ]
  },
  {
   "cell_type": "code",
   "execution_count": 38,
   "id": "e40a9403-cb9c-4d46-8bbc-0efd991424df",
   "metadata": {},
   "outputs": [],
   "source": [
    "knn = KNeighborsClassifier(n_neighbors=2)\n",
    "knn.fit(X_train, y_train)\n",
    "predict_knn = knn.predict(X_test)"
   ]
  },
  {
   "cell_type": "markdown",
   "id": "200b57c5-bb2a-4429-88f3-c44459f552eb",
   "metadata": {},
   "source": [
    "### accuracy"
   ]
  },
  {
   "cell_type": "code",
   "execution_count": 39,
   "id": "05d35b71-77ce-4931-844b-606fa9a10e76",
   "metadata": {},
   "outputs": [
    {
     "name": "stdout",
     "output_type": "stream",
     "text": [
      "Test set Accuracy:  0.8634361233480177\n",
      "Train set Accuracy:  0.9753787878787878\n",
      "[[145  22]\n",
      " [  9  51]]\n",
      "              precision    recall  f1-score   support\n",
      "\n",
      "           0       0.70      0.85      0.77        60\n",
      "           1       0.94      0.87      0.90       167\n",
      "\n",
      "    accuracy                           0.86       227\n",
      "   macro avg       0.82      0.86      0.84       227\n",
      "weighted avg       0.88      0.86      0.87       227\n",
      "\n"
     ]
    },
    {
     "data": {
      "image/png": "[encoded data removed]",
      "text/plain": [
       "<Figure size 288x288 with 2 Axes>"
      ]
     },
     "metadata": {
      "needs_background": "light"
     },
     "output_type": "display_data"
    },
    {
     "name": "stdout",
     "output_type": "stream",
     "text": [
      "f1 is:  0.9034267912772586\n",
      "ROC-AUC Score is:  0.8591317365269461\n"
     ]
    },
    {
     "data": {
      "image/png": "[encoded data removed]",
      "text/plain": [
       "<Figure size 432x288 with 1 Axes>"
      ]
     },
     "metadata": {
      "needs_background": "light"
     },
     "output_type": "display_data"
    }
   ],
   "source": [
    "test_set_acc_knn = metrics.accuracy_score(y_test, predict_knn)\n",
    "train_set_acc_knn = metrics.accuracy_score(y_train, knn.predict(X_train))\n",
    "\n",
    "print(\"Test set Accuracy: \", test_set_acc_knn)\n",
    "print(\"Train set Accuracy: \", train_set_acc_knn)\n",
    "\n",
    "print(confusion_matrix(y_test, predict_knn, labels=[1,0]))\n",
    "print (classification_report(y_test, predict_knn))\n",
    "cm = confusion_matrix(y_test, predict_knn)\n",
    "fig, ax = plt.subplots(figsize=(4,4))\n",
    "sns.heatmap(cm, annot=True)\n",
    "plt.show()\n",
    "\n",
    "print('f1 is: ',f1_score(y_test, predict_knn))\n",
    "\n",
    "score_knn = roc_auc_score(y_test, predict_knn)\n",
    "print('ROC-AUC Score is: ', score_knn)\n",
    "fpr, tpr, thresholds = roc_curve(y_test, predict_knn)\n",
    "plt.plot(fpr, tpr, label='ROC Curve (area=%0.2f)' % score_knn)\n",
    "plt.plot([0,1], [0,1], 'k--')\n",
    "plt.legend()\n",
    "plt.show()"
   ]
  },
  {
   "cell_type": "markdown",
   "id": "0877d935-2d65-457e-bc5f-1fbcd6175283",
   "metadata": {},
   "source": [
    "As you can see, the test and training accuracies are 86% and 97%, respectively. You can also visualize the confusion matrix information in the chart above. The average accuracy of cross-validation is 85%, and the F1-score of this model is 90%. Additionally, its ROC-AUC score is 0.86."
   ]
  },
  {
   "cell_type": "markdown",
   "id": "b4322798-53b9-4ad9-910d-fd93c28ae162",
   "metadata": {},
   "source": [
    "### adding to the dataframe"
   ]
  },
  {
   "cell_type": "code",
   "execution_count": 40,
   "id": "16a05569-c8f3-40fd-b4cc-b0d2002e874e",
   "metadata": {},
   "outputs": [],
   "source": [
    "cv_acc = df_knn[df_knn.n_neighbors == 2]['mean acc in cross_validation'].values[0]\n",
    "all_acc_knn = [cv_acc, test_set_acc_knn, train_set_acc_knn, score_knn]"
   ]
  },
  {
   "cell_type": "code",
   "execution_count": 41,
   "id": "7e96bdbb-184d-448b-8763-7cc3aefafb1b",
   "metadata": {},
   "outputs": [],
   "source": [
    "df_acc_before_pca.loc['KNeighborsClassifier'] = all_acc_knn"
   ]
  },
  {
   "cell_type": "markdown",
   "id": "7d033682-f338-4f63-af93-45167c22523b",
   "metadata": {
    "tags": []
   },
   "source": [
    "# svm"
   ]
  },
  {
   "cell_type": "markdown",
   "id": "c2686161-e0c6-4afb-8c1e-5b161dffdf01",
   "metadata": {},
   "source": [
    "### finding the best kernel"
   ]
  },
  {
   "cell_type": "code",
   "execution_count": 42,
   "id": "c3b1f138-39e5-43ba-af3a-0390e609705d",
   "metadata": {},
   "outputs": [
    {
     "data": {
      "text/plain": [
       "[0.8466486972147349,\n",
       " 0.7934950584007188,\n",
       " 0.8277807726864331,\n",
       " 0.8314645103324348]"
      ]
     },
     "execution_count": 42,
     "metadata": {},
     "output_type": "execute_result"
    }
   ],
   "source": [
    "mean_list = []\n",
    "kernel_list = ['rbf', 'poly', 'linear', 'sigmoid']\n",
    "for kernel in kernel_list:\n",
    "    clf = svm.SVC(kernel=kernel)\n",
    "    scores = cross_val_score(clf, X_train, y_train, cv=5)\n",
    "    mean = scores.mean()\n",
    "    mean_list.append(mean)\n",
    "mean_list"
   ]
  },
  {
   "cell_type": "code",
   "execution_count": 43,
   "id": "b76c288f-0278-4fc7-b5f4-faed0f1acbe4",
   "metadata": {},
   "outputs": [],
   "source": [
    "C_s = [0.001, 0.005, 0.01, 0.05, 0.1, 0.5, 0.8, 1, 2, 5, 8, 10]\n",
    "df_svm = pd.DataFrame()\n",
    "mean_list = []\n",
    "\n",
    "for C in C_s:\n",
    "    clf = svm.SVC(kernel='rbf', C=C)\n",
    "    scores = cross_val_score(clf, X_train, y_train, cv=5)\n",
    "    mean = scores.mean()\n",
    "    mean_list.append(mean)\n",
    "df_svm['C'] = C_s\n",
    "df_svm['mean acc in cross_validation'] = mean_list"
   ]
  },
  {
   "cell_type": "code",
   "execution_count": 39,
   "id": "6b4c18d1-f693-47e7-ace1-12f818937c6d",
   "metadata": {},
   "outputs": [
    {
     "data": {
      "text/html": [
       "<div>\n",
       "<style scoped>\n",
       "    .dataframe tbody tr th:only-of-type {\n",
       "        vertical-align: middle;\n",
       "    }\n",
       "\n",
       "    .dataframe tbody tr th {\n",
       "        vertical-align: top;\n",
       "    }\n",
       "\n",
       "    .dataframe thead th {\n",
       "        text-align: right;\n",
       "    }\n",
       "</style>\n",
       "<table border=\"1\" class=\"dataframe\">\n",
       "  <thead>\n",
       "    <tr style=\"text-align: right;\">\n",
       "      <th></th>\n",
       "      <th>C</th>\n",
       "      <th>mean acc in cross_validation</th>\n",
       "    </tr>\n",
       "  </thead>\n",
       "  <tbody>\n",
       "    <tr>\n",
       "      <th>0</th>\n",
       "      <td>0.001</td>\n",
       "      <td>0.750009</td>\n",
       "    </tr>\n",
       "    <tr>\n",
       "      <th>1</th>\n",
       "      <td>0.005</td>\n",
       "      <td>0.750009</td>\n",
       "    </tr>\n",
       "    <tr>\n",
       "      <th>2</th>\n",
       "      <td>0.010</td>\n",
       "      <td>0.750009</td>\n",
       "    </tr>\n",
       "    <tr>\n",
       "      <th>3</th>\n",
       "      <td>0.050</td>\n",
       "      <td>0.750009</td>\n",
       "    </tr>\n",
       "    <tr>\n",
       "      <th>4</th>\n",
       "      <td>0.100</td>\n",
       "      <td>0.750009</td>\n",
       "    </tr>\n",
       "    <tr>\n",
       "      <th>5</th>\n",
       "      <td>0.500</td>\n",
       "      <td>0.804942</td>\n",
       "    </tr>\n",
       "    <tr>\n",
       "      <th>6</th>\n",
       "      <td>0.800</td>\n",
       "      <td>0.837125</td>\n",
       "    </tr>\n",
       "    <tr>\n",
       "      <th>7</th>\n",
       "      <td>1.000</td>\n",
       "      <td>0.846649</td>\n",
       "    </tr>\n",
       "    <tr>\n",
       "      <th>8</th>\n",
       "      <td>2.000</td>\n",
       "      <td>0.856155</td>\n",
       "    </tr>\n",
       "    <tr>\n",
       "      <th>9</th>\n",
       "      <td>5.000</td>\n",
       "      <td>0.882695</td>\n",
       "    </tr>\n",
       "    <tr>\n",
       "      <th>10</th>\n",
       "      <td>8.000</td>\n",
       "      <td>0.888374</td>\n",
       "    </tr>\n",
       "    <tr>\n",
       "      <th>11</th>\n",
       "      <td>10.000</td>\n",
       "      <td>0.888374</td>\n",
       "    </tr>\n",
       "  </tbody>\n",
       "</table>\n",
       "</div>"
      ],
      "text/plain": [
       "         C  mean acc in cross_validation\n",
       "0    0.001                      0.750009\n",
       "1    0.005                      0.750009\n",
       "2    0.010                      0.750009\n",
       "3    0.050                      0.750009\n",
       "4    0.100                      0.750009\n",
       "5    0.500                      0.804942\n",
       "6    0.800                      0.837125\n",
       "7    1.000                      0.846649\n",
       "8    2.000                      0.856155\n",
       "9    5.000                      0.882695\n",
       "10   8.000                      0.888374\n",
       "11  10.000                      0.888374"
      ]
     },
     "execution_count": 39,
     "metadata": {},
     "output_type": "execute_result"
    }
   ],
   "source": [
    "df_svm"
   ]
  },
  {
   "cell_type": "markdown",
   "id": "441d42d0-e424-4f99-a742-769a69c16010",
   "metadata": {},
   "source": [
    "### fitting model"
   ]
  },
  {
   "cell_type": "code",
   "execution_count": 48,
   "id": "f1a874a7-e7de-4fe3-929a-02ef898b3347",
   "metadata": {},
   "outputs": [],
   "source": [
    "clf = svm.SVC(kernel='rbf', C=8)\n",
    "clf.fit(X_train, y_train)\n",
    "predict_svm = clf.predict(X_test)"
   ]
  },
  {
   "cell_type": "markdown",
   "id": "ffa70ed3-ab18-4f4f-a596-adc1bb8d7c06",
   "metadata": {},
   "source": [
    "### accuracy"
   ]
  },
  {
   "cell_type": "code",
   "execution_count": 50,
   "id": "fc66eaba-74fe-4c1c-83da-a061123ba182",
   "metadata": {},
   "outputs": [
    {
     "name": "stdout",
     "output_type": "stream",
     "text": [
      "Test set Accuracy:  0.8678414096916299\n",
      "Train set Accuracy:  1.0\n",
      "[[161   6]\n",
      " [ 24  36]]\n",
      "              precision    recall  f1-score   support\n",
      "\n",
      "           0       0.86      0.60      0.71        60\n",
      "           1       0.87      0.96      0.91       167\n",
      "\n",
      "    accuracy                           0.87       227\n",
      "   macro avg       0.86      0.78      0.81       227\n",
      "weighted avg       0.87      0.87      0.86       227\n",
      "\n"
     ]
    },
    {
     "data": {
      "image/png": "[encoded data removed]",
      "text/plain": [
       "<Figure size 288x288 with 2 Axes>"
      ]
     },
     "metadata": {
      "needs_background": "light"
     },
     "output_type": "display_data"
    },
    {
     "name": "stdout",
     "output_type": "stream",
     "text": [
      "f1 is:  0.9147727272727274\n",
      "ROC-AUC Score is:  0.7820359281437125\n"
     ]
    },
    {
     "data": {
      "image/png": "[encoded data removed]",
      "text/plain": [
       "<Figure size 432x288 with 1 Axes>"
      ]
     },
     "metadata": {
      "needs_background": "light"
     },
     "output_type": "display_data"
    }
   ],
   "source": [
    "test_set_acc_svm = metrics.accuracy_score(y_test, predict_svm)\n",
    "train_set_acc_svm = metrics.accuracy_score(y_train, clf.predict(X_train))\n",
    "\n",
    "print(\"Test set Accuracy: \", test_set_acc_svm)\n",
    "print(\"Train set Accuracy: \", train_set_acc_svm)\n",
    "\n",
    "print(confusion_matrix(y_test, predict_svm, labels=[1,0]))\n",
    "print (classification_report(y_test, predict_svm))\n",
    "cm = confusion_matrix(y_test, predict_svm)\n",
    "fig, ax = plt.subplots(figsize=(4,4))\n",
    "sns.heatmap(cm, annot=True)\n",
    "plt.show()\n",
    "\n",
    "print('f1 is: ',f1_score(y_test, predict_svm))\n",
    "\n",
    "score_svm = roc_auc_score(y_test, predict_svm)\n",
    "print('ROC-AUC Score is: ', score_svm)\n",
    "fpr, tpr, thresholds = roc_curve(y_test, predict_svm)\n",
    "plt.plot(fpr, tpr, label='ROC Curve (area=%0.2f)' % score_svm)\n",
    "plt.plot([0,1], [0,1], 'k--')\n",
    "plt.legend()\n",
    "plt.show()"
   ]
  },
  {
   "cell_type": "markdown",
   "id": "080f748d-d2f5-4be1-bf5a-1e6ad8eecf44",
   "metadata": {},
   "source": [
    "As you can see, the test and training accuracies are 86% and 100%, respectively. You can also visualize the confusion matrix information in the chart above. The average accuracy of cross-validation is 88%, and the F1-score of this model is 91%. Additionally, its ROC-AUC score is 0.78."
   ]
  },
  {
   "cell_type": "markdown",
   "id": "42b9b353-50d8-4505-95ab-6ce1bf61b474",
   "metadata": {},
   "source": [
    "### adding to dataframe"
   ]
  },
  {
   "cell_type": "code",
   "execution_count": 51,
   "id": "34ba76c2-758d-4a9a-ab21-8f89b5de4d6a",
   "metadata": {},
   "outputs": [],
   "source": [
    "cv_acc = df_svm[df_svm.C == 8]['mean acc in cross_validation'].values[0]\n",
    "all_acc_svm = [cv_acc, test_set_acc_svm, train_set_acc_svm, score_svm]"
   ]
  },
  {
   "cell_type": "code",
   "execution_count": 52,
   "id": "d2393073-e375-4f58-abbe-f5bd94a4e7e7",
   "metadata": {},
   "outputs": [],
   "source": [
    "df_acc_before_pca.loc['svm'] = all_acc_svm"
   ]
  },
  {
   "cell_type": "markdown",
   "id": "94c01253-81e6-4dce-847d-cd82aa3fbb23",
   "metadata": {},
   "source": [
    "# RandomForestClassifier"
   ]
  },
  {
   "cell_type": "markdown",
   "id": "0a147fc9-5551-4af3-8bcd-746e5c531208",
   "metadata": {},
   "source": [
    "### finding the best parameter"
   ]
  },
  {
   "cell_type": "code",
   "execution_count": 64,
   "id": "e7c14905-b2cb-41f7-af3f-a3a314f3a6ce",
   "metadata": {},
   "outputs": [],
   "source": [
    "depth_list = [2, 3, 4, 5, 6, 8, 10, 12, 15, 20, 25]\n",
    "df_forest = pd.DataFrame()\n",
    "mean_list = []\n",
    "\n",
    "for depth in depth_list:\n",
    "    forest = RandomForestClassifier(criterion=\"entropy\", max_depth = depth)\n",
    "    scores = cross_val_score(forest, X_train, y_train, cv=5)\n",
    "    mean = scores.mean()\n",
    "    mean_list.append(mean)\n",
    "df_forest['depth'] = depth_list\n",
    "df_forest['mean acc in cross_validation'] = mean_list"
   ]
  },
  {
   "cell_type": "code",
   "execution_count": 65,
   "id": "b1e388ab-6393-4e6c-9b00-6b74ee5f3d06",
   "metadata": {},
   "outputs": [
    {
     "data": {
      "text/html": [
       "<div>\n",
       "<style scoped>\n",
       "    .dataframe tbody tr th:only-of-type {\n",
       "        vertical-align: middle;\n",
       "    }\n",
       "\n",
       "    .dataframe tbody tr th {\n",
       "        vertical-align: top;\n",
       "    }\n",
       "\n",
       "    .dataframe thead th {\n",
       "        text-align: right;\n",
       "    }\n",
       "</style>\n",
       "<table border=\"1\" class=\"dataframe\">\n",
       "  <thead>\n",
       "    <tr style=\"text-align: right;\">\n",
       "      <th></th>\n",
       "      <th>depth</th>\n",
       "      <th>mean acc in cross_validation</th>\n",
       "    </tr>\n",
       "  </thead>\n",
       "  <tbody>\n",
       "    <tr>\n",
       "      <th>0</th>\n",
       "      <td>2</td>\n",
       "      <td>0.803091</td>\n",
       "    </tr>\n",
       "    <tr>\n",
       "      <th>1</th>\n",
       "      <td>3</td>\n",
       "      <td>0.821977</td>\n",
       "    </tr>\n",
       "    <tr>\n",
       "      <th>2</th>\n",
       "      <td>4</td>\n",
       "      <td>0.842767</td>\n",
       "    </tr>\n",
       "    <tr>\n",
       "      <th>3</th>\n",
       "      <td>5</td>\n",
       "      <td>0.848464</td>\n",
       "    </tr>\n",
       "    <tr>\n",
       "      <th>4</th>\n",
       "      <td>6</td>\n",
       "      <td>0.852345</td>\n",
       "    </tr>\n",
       "    <tr>\n",
       "      <th>5</th>\n",
       "      <td>8</td>\n",
       "      <td>0.856083</td>\n",
       "    </tr>\n",
       "    <tr>\n",
       "      <th>6</th>\n",
       "      <td>10</td>\n",
       "      <td>0.854160</td>\n",
       "    </tr>\n",
       "    <tr>\n",
       "      <th>7</th>\n",
       "      <td>12</td>\n",
       "      <td>0.867511</td>\n",
       "    </tr>\n",
       "    <tr>\n",
       "      <th>8</th>\n",
       "      <td>15</td>\n",
       "      <td>0.863684</td>\n",
       "    </tr>\n",
       "    <tr>\n",
       "      <th>9</th>\n",
       "      <td>20</td>\n",
       "      <td>0.857934</td>\n",
       "    </tr>\n",
       "    <tr>\n",
       "      <th>10</th>\n",
       "      <td>25</td>\n",
       "      <td>0.856101</td>\n",
       "    </tr>\n",
       "  </tbody>\n",
       "</table>\n",
       "</div>"
      ],
      "text/plain": [
       "    depth  mean acc in cross_validation\n",
       "0       2                      0.803091\n",
       "1       3                      0.821977\n",
       "2       4                      0.842767\n",
       "3       5                      0.848464\n",
       "4       6                      0.852345\n",
       "5       8                      0.856083\n",
       "6      10                      0.854160\n",
       "7      12                      0.867511\n",
       "8      15                      0.863684\n",
       "9      20                      0.857934\n",
       "10     25                      0.856101"
      ]
     },
     "execution_count": 65,
     "metadata": {},
     "output_type": "execute_result"
    }
   ],
   "source": [
    "df_forest"
   ]
  },
  {
   "cell_type": "markdown",
   "id": "5d47a787-e63c-488d-9a87-c8ae7b4d8b90",
   "metadata": {},
   "source": [
    "### fitting model"
   ]
  },
  {
   "cell_type": "code",
   "execution_count": 68,
   "id": "cb813dde-5a29-4a81-b50c-af0ba0e6c500",
   "metadata": {},
   "outputs": [],
   "source": [
    "forest = RandomForestClassifier(criterion=\"entropy\", max_depth = 6)\n",
    "forest.fit(X_train, y_train)\n",
    "predict_forest = forest.predict(X_test)"
   ]
  },
  {
   "cell_type": "markdown",
   "id": "5933ab7b-6d9b-4e04-9d46-1c8b3c77997a",
   "metadata": {},
   "source": [
    "### accuracy"
   ]
  },
  {
   "cell_type": "code",
   "execution_count": 69,
   "id": "a0b327b6-62a3-417d-b3db-a0ca5207c00a",
   "metadata": {},
   "outputs": [
    {
     "name": "stdout",
     "output_type": "stream",
     "text": [
      "Test set Accuracy:  0.8502202643171806\n",
      "Train set Accuracy:  0.9867424242424242\n",
      "[[164   3]\n",
      " [ 31  29]]\n",
      "              precision    recall  f1-score   support\n",
      "\n",
      "           0       0.91      0.48      0.63        60\n",
      "           1       0.84      0.98      0.91       167\n",
      "\n",
      "    accuracy                           0.85       227\n",
      "   macro avg       0.87      0.73      0.77       227\n",
      "weighted avg       0.86      0.85      0.83       227\n",
      "\n"
     ]
    },
    {
     "data": {
      "image/png": "[encoded data removed]",
      "text/plain": [
       "<Figure size 288x288 with 2 Axes>"
      ]
     },
     "metadata": {
      "needs_background": "light"
     },
     "output_type": "display_data"
    },
    {
     "name": "stdout",
     "output_type": "stream",
     "text": [
      "f1 is:  0.9060773480662984\n",
      "ROC-AUC Score is:  0.7326846307385229\n"
     ]
    },
    {
     "data": {
      "image/png": "[encoded data removed]",
      "text/plain": [
       "<Figure size 432x288 with 1 Axes>"
      ]
     },
     "metadata": {
      "needs_background": "light"
     },
     "output_type": "display_data"
    }
   ],
   "source": [
    "test_set_acc_forest = metrics.accuracy_score(y_test, predict_forest)\n",
    "train_set_acc_forest = metrics.accuracy_score(y_train, forest.predict(X_train))\n",
    "\n",
    "print(\"Test set Accuracy: \", test_set_acc_forest)\n",
    "print(\"Train set Accuracy: \", train_set_acc_forest)\n",
    "\n",
    "print(confusion_matrix(y_test, predict_forest, labels=[1,0]))\n",
    "print (classification_report(y_test, predict_forest))\n",
    "cm = confusion_matrix(y_test, predict_forest)\n",
    "fig, ax = plt.subplots(figsize=(4,4))\n",
    "sns.heatmap(cm, annot=True)\n",
    "plt.show()\n",
    "\n",
    "print('f1 is: ',f1_score(y_test, predict_forest))\n",
    "\n",
    "score_forest = roc_auc_score(y_test, predict_forest)\n",
    "print('ROC-AUC Score is: ', score_forest)\n",
    "fpr, tpr, thresholds = roc_curve(y_test, predict_forest)\n",
    "plt.plot(fpr, tpr, label='ROC Curve (area=%0.2f)' % score_forest)\n",
    "plt.plot([0,1], [0,1], 'k--')\n",
    "plt.legend()\n",
    "plt.show()"
   ]
  },
  {
   "cell_type": "markdown",
   "id": "b558b76c-67c0-4b56-b150-1fb0a0926a98",
   "metadata": {},
   "source": [
    "As you can see, the test and training accuracies are 85% and 98%, respectively. You can also visualize the confusion matrix information in the chart above. The average accuracy of cross-validation is 85%, and the F1-score of this model is 90%. Additionally, its ROC-AUC score is 0.73."
   ]
  },
  {
   "cell_type": "code",
   "execution_count": 70,
   "id": "41d3b8e6-c51a-4eaa-961c-6a8cc703956d",
   "metadata": {},
   "outputs": [],
   "source": [
    "cv_acc = df_forest[df_forest.depth == 6]['mean acc in cross_validation'].values[0]\n",
    "all_acc_forest = [cv_acc, test_set_acc_forest, train_set_acc_forest, score_forest]"
   ]
  },
  {
   "cell_type": "code",
   "execution_count": 71,
   "id": "7d436427-3a45-4d7a-b131-2668e0e49697",
   "metadata": {},
   "outputs": [],
   "source": [
    "df_acc_before_pca.loc['RandomForestClassifier'] = all_acc_forest"
   ]
  },
  {
   "cell_type": "markdown",
   "id": "b75b38b2-60a0-49dd-8d52-c5da60c28bbb",
   "metadata": {},
   "source": [
    "## Table of accuracies"
   ]
  },
  {
   "cell_type": "code",
   "execution_count": 72,
   "id": "4126e93d-852f-4301-8748-b826254e5ea1",
   "metadata": {},
   "outputs": [
    {
     "data": {
      "text/html": [
       "<div>\n",
       "<style scoped>\n",
       "    .dataframe tbody tr th:only-of-type {\n",
       "        vertical-align: middle;\n",
       "    }\n",
       "\n",
       "    .dataframe tbody tr th {\n",
       "        vertical-align: top;\n",
       "    }\n",
       "\n",
       "    .dataframe thead th {\n",
       "        text-align: right;\n",
       "    }\n",
       "</style>\n",
       "<table border=\"1\" class=\"dataframe\">\n",
       "  <thead>\n",
       "    <tr style=\"text-align: right;\">\n",
       "      <th></th>\n",
       "      <th>cv_acc</th>\n",
       "      <th>test_set_acc</th>\n",
       "      <th>train_set_acc</th>\n",
       "      <th>ROC-AUC Score</th>\n",
       "    </tr>\n",
       "  </thead>\n",
       "  <tbody>\n",
       "    <tr>\n",
       "      <th>DecisionTreeClassifier</th>\n",
       "      <td>0.757664</td>\n",
       "      <td>0.819383</td>\n",
       "      <td>0.952652</td>\n",
       "      <td>0.727745</td>\n",
       "    </tr>\n",
       "    <tr>\n",
       "      <th>KNeighborsClassifier</th>\n",
       "      <td>0.857951</td>\n",
       "      <td>0.863436</td>\n",
       "      <td>0.975379</td>\n",
       "      <td>0.859132</td>\n",
       "    </tr>\n",
       "    <tr>\n",
       "      <th>svm</th>\n",
       "      <td>0.888374</td>\n",
       "      <td>0.867841</td>\n",
       "      <td>1.000000</td>\n",
       "      <td>0.782036</td>\n",
       "    </tr>\n",
       "    <tr>\n",
       "      <th>RandomForestClassifier</th>\n",
       "      <td>0.852345</td>\n",
       "      <td>0.850220</td>\n",
       "      <td>0.986742</td>\n",
       "      <td>0.732685</td>\n",
       "    </tr>\n",
       "  </tbody>\n",
       "</table>\n",
       "</div>"
      ],
      "text/plain": [
       "                          cv_acc  test_set_acc  train_set_acc  ROC-AUC Score\n",
       "DecisionTreeClassifier  0.757664      0.819383       0.952652       0.727745\n",
       "KNeighborsClassifier    0.857951      0.863436       0.975379       0.859132\n",
       "svm                     0.888374      0.867841       1.000000       0.782036\n",
       "RandomForestClassifier  0.852345      0.850220       0.986742       0.732685"
      ]
     },
     "execution_count": 72,
     "metadata": {},
     "output_type": "execute_result"
    }
   ],
   "source": [
    "df_acc_before_pca"
   ]
  },
  {
   "cell_type": "markdown",
   "id": "672e1470-4f5b-4a9f-9842-7d7fd39a7b26",
   "metadata": {},
   "source": [
    "# PCA"
   ]
  },
  {
   "cell_type": "markdown",
   "id": "0fceffdd-4da9-4dc5-9fab-6466990ebb53",
   "metadata": {},
   "source": [
    "Now, using PCA, we perform the feature extraction operation and repeat the previous steps. In this stage, we won't provide explanations for the four models as they are similar to the four models above. However, in the end, we will compare the accuracies of the models in two scenarios: before PCA and after PCA."
   ]
  },
  {
   "cell_type": "markdown",
   "id": "bde29fca-880a-42d2-9e8b-ea0021e79351",
   "metadata": {},
   "source": [
    "First, we consider the PCA parameter as 3. This means that we are looking for three desired eigenvectors from our feature vectors. Then, we observe the positions of the data points while knowing their classes."
   ]
  },
  {
   "cell_type": "code",
   "execution_count": 102,
   "id": "f69801c0-dbc3-447a-a1f5-8d3be2f4b40f",
   "metadata": {},
   "outputs": [],
   "source": [
    "pca = PCA(n_components=3)"
   ]
  },
  {
   "cell_type": "code",
   "execution_count": 95,
   "id": "d38160ef-dde7-46e6-874f-f00748e1dcb4",
   "metadata": {},
   "outputs": [],
   "source": [
    "X_train_pca = pca.fit_transform(X_train)"
   ]
  },
  {
   "cell_type": "code",
   "execution_count": 110,
   "id": "6b560d40-d40a-4127-92fb-b2bf433bf966",
   "metadata": {},
   "outputs": [
    {
     "data": {
      "image/png": "[encoded data removed]",
      "text/plain": [
       "<Figure size 720x504 with 1 Axes>"
      ]
     },
     "metadata": {
      "needs_background": "light"
     },
     "output_type": "display_data"
    }
   ],
   "source": [
    "fig = plt.figure(figsize = (10, 7))\n",
    "ax = plt.axes(projection =\"3d\")\n",
    "ax.scatter3D(X_train_pca[:,0], X_train_pca[:,1],X_train_pca[:, 2], c=y_train)\n",
    "plt.show()"
   ]
  },
  {
   "cell_type": "markdown",
   "id": "7c78a7ef-c92d-4e79-bf25-c6515575cd4e",
   "metadata": {},
   "source": [
    "Now, we set the PCA parameter to 2. This means that we are looking for two desired eigenvectors from our feature vectors. Then, we observe the positions of the data points while knowing their classes."
   ]
  },
  {
   "cell_type": "code",
   "execution_count": 253,
   "id": "18bf9cc9-2232-4cd6-98b4-4f742c9ae482",
   "metadata": {},
   "outputs": [],
   "source": [
    "pca = PCA(n_components=2)"
   ]
  },
  {
   "cell_type": "code",
   "execution_count": 254,
   "id": "82eedd95-9c92-4e9d-b463-6d126c13d343",
   "metadata": {},
   "outputs": [],
   "source": [
    "X_train_pca = pca.fit_transform(X_train)"
   ]
  },
  {
   "cell_type": "code",
   "execution_count": 255,
   "id": "06d76caa-232e-4fdb-a159-66e9098399bb",
   "metadata": {},
   "outputs": [
    {
     "data": {
      "image/png": "[encoded data removed]",
      "text/plain": [
       "<Figure size 432x288 with 1 Axes>"
      ]
     },
     "metadata": {
      "needs_background": "light"
     },
     "output_type": "display_data"
    }
   ],
   "source": [
    "plt.scatter(X_train_pca[:,0], X_train_pca[:,1], c=y_train)\n",
    "plt.show()"
   ]
  },
  {
   "cell_type": "markdown",
   "id": "80b0e021-68bd-4837-aaba-1babca9e0ae3",
   "metadata": {},
   "source": [
    "As you can see, in the case where the parameter is set to 3, data separation is easier."
   ]
  },
  {
   "cell_type": "markdown",
   "id": "7b043333-5ed0-47db-8ff9-24af05af14ed",
   "metadata": {},
   "source": [
    "Now, after testing a large number of n_component parameters, we have concluded that the number 40 can be a good parameter for running PCA. Continuing with:"
   ]
  },
  {
   "cell_type": "code",
   "execution_count": 313,
   "id": "da0b864a-6630-4387-b461-66923f1aa6b7",
   "metadata": {},
   "outputs": [],
   "source": [
    "pca = PCA(n_components=30)"
   ]
  },
  {
   "cell_type": "code",
   "execution_count": 314,
   "id": "9d1d7022-426c-492e-ad4e-5b4a2f14fae6",
   "metadata": {},
   "outputs": [],
   "source": [
    "X_train_pca = pca.fit_transform(X_train)"
   ]
  },
  {
   "cell_type": "code",
   "execution_count": 315,
   "id": "2baa40ec-0541-48da-8914-b4e8e4fc9c3e",
   "metadata": {},
   "outputs": [],
   "source": [
    "X_test_pca = pca.transform(X_test)"
   ]
  },
  {
   "cell_type": "markdown",
   "id": "abaa7577-4d5c-4255-9caf-abc1a8f3fb52",
   "metadata": {},
   "source": [
    "Now we are creating a dataframe called \"df_acc_after_pca\" to store the accuracies of our 4 models after performing the PCA operation. These accuracies include the accuracy of the test data, the accuracy of the training data, cross-validation accuracy, and ROC-AUC Score."
   ]
  },
  {
   "cell_type": "code",
   "execution_count": 316,
   "id": "24a754c8-dc3e-4c2c-8537-46293ac1a735",
   "metadata": {},
   "outputs": [],
   "source": [
    "df_acc_after_pca = pd.DataFrame(columns=['cv_acc', 'test_set_acc', 'train_set_acc', 'ROC-AUC Score'])"
   ]
  },
  {
   "cell_type": "markdown",
   "id": "49f48290-2d9a-49e4-a0b6-2f89b1386194",
   "metadata": {},
   "source": [
    "# DecisionTree"
   ]
  },
  {
   "cell_type": "code",
   "execution_count": 317,
   "id": "8d588768-34d5-46a3-8e41-bb0645bef82e",
   "metadata": {},
   "outputs": [],
   "source": [
    "depth_list = [3, 4, 5, 6, 7, 8, 10, 12, 15, 18, 20, 22, 25]\n",
    "df_tree = pd.DataFrame()\n",
    "mean_list = []\n",
    "\n",
    "for depth in depth_list:\n",
    "    tree = DecisionTreeClassifier(criterion=\"entropy\", max_depth = depth)\n",
    "    scores = cross_val_score(tree, X_train_pca, y_train, cv=5)\n",
    "    mean = scores.mean()\n",
    "    mean_list.append(mean)\n",
    "df_tree['depth'] = depth_list\n",
    "df_tree['mean acc in cross_validation'] = mean_list"
   ]
  },
  {
   "cell_type": "code",
   "execution_count": 318,
   "id": "324a0703-f7dd-4db8-bad5-620d1f145ea1",
   "metadata": {},
   "outputs": [
    {
     "data": {
      "text/html": [
       "<div>\n",
       "<style scoped>\n",
       "    .dataframe tbody tr th:only-of-type {\n",
       "        vertical-align: middle;\n",
       "    }\n",
       "\n",
       "    .dataframe tbody tr th {\n",
       "        vertical-align: top;\n",
       "    }\n",
       "\n",
       "    .dataframe thead th {\n",
       "        text-align: right;\n",
       "    }\n",
       "</style>\n",
       "<table border=\"1\" class=\"dataframe\">\n",
       "  <thead>\n",
       "    <tr style=\"text-align: right;\">\n",
       "      <th></th>\n",
       "      <th>depth</th>\n",
       "      <th>mean acc in cross_validation</th>\n",
       "    </tr>\n",
       "  </thead>\n",
       "  <tbody>\n",
       "    <tr>\n",
       "      <th>0</th>\n",
       "      <td>3</td>\n",
       "      <td>0.765229</td>\n",
       "    </tr>\n",
       "    <tr>\n",
       "      <th>1</th>\n",
       "      <td>4</td>\n",
       "      <td>0.768931</td>\n",
       "    </tr>\n",
       "    <tr>\n",
       "      <th>2</th>\n",
       "      <td>5</td>\n",
       "      <td>0.778473</td>\n",
       "    </tr>\n",
       "    <tr>\n",
       "      <th>3</th>\n",
       "      <td>6</td>\n",
       "      <td>0.812650</td>\n",
       "    </tr>\n",
       "    <tr>\n",
       "      <th>4</th>\n",
       "      <td>7</td>\n",
       "      <td>0.788014</td>\n",
       "    </tr>\n",
       "    <tr>\n",
       "      <th>5</th>\n",
       "      <td>8</td>\n",
       "      <td>0.782372</td>\n",
       "    </tr>\n",
       "    <tr>\n",
       "      <th>6</th>\n",
       "      <td>10</td>\n",
       "      <td>0.788068</td>\n",
       "    </tr>\n",
       "    <tr>\n",
       "      <th>7</th>\n",
       "      <td>12</td>\n",
       "      <td>0.782390</td>\n",
       "    </tr>\n",
       "    <tr>\n",
       "      <th>8</th>\n",
       "      <td>15</td>\n",
       "      <td>0.776676</td>\n",
       "    </tr>\n",
       "    <tr>\n",
       "      <th>9</th>\n",
       "      <td>18</td>\n",
       "      <td>0.774753</td>\n",
       "    </tr>\n",
       "    <tr>\n",
       "      <th>10</th>\n",
       "      <td>20</td>\n",
       "      <td>0.786146</td>\n",
       "    </tr>\n",
       "    <tr>\n",
       "      <th>11</th>\n",
       "      <td>22</td>\n",
       "      <td>0.786164</td>\n",
       "    </tr>\n",
       "    <tr>\n",
       "      <th>12</th>\n",
       "      <td>25</td>\n",
       "      <td>0.782354</td>\n",
       "    </tr>\n",
       "  </tbody>\n",
       "</table>\n",
       "</div>"
      ],
      "text/plain": [
       "    depth  mean acc in cross_validation\n",
       "0       3                      0.765229\n",
       "1       4                      0.768931\n",
       "2       5                      0.778473\n",
       "3       6                      0.812650\n",
       "4       7                      0.788014\n",
       "5       8                      0.782372\n",
       "6      10                      0.788068\n",
       "7      12                      0.782390\n",
       "8      15                      0.776676\n",
       "9      18                      0.774753\n",
       "10     20                      0.786146\n",
       "11     22                      0.786164\n",
       "12     25                      0.782354"
      ]
     },
     "execution_count": 318,
     "metadata": {},
     "output_type": "execute_result"
    }
   ],
   "source": [
    "df_tree"
   ]
  },
  {
   "cell_type": "code",
   "execution_count": 319,
   "id": "b9ce6f44-8063-485d-89a8-5f4a5fe7e722",
   "metadata": {},
   "outputs": [],
   "source": [
    "tree = DecisionTreeClassifier(criterion=\"entropy\", max_depth = 5)\n",
    "tree.fit(X_train_pca, y_train)\n",
    "predict_tree = tree.predict(X_test_pca)"
   ]
  },
  {
   "cell_type": "code",
   "execution_count": 320,
   "id": "20c45aa3-82ab-4b6d-b8be-443aaa548b8c",
   "metadata": {},
   "outputs": [
    {
     "name": "stdout",
     "output_type": "stream",
     "text": [
      "Test set Accuracy:  0.8325991189427313\n",
      "Train set Accuracy:  0.8977272727272727\n",
      "[[150  17]\n",
      " [ 21  39]]\n",
      "              precision    recall  f1-score   support\n",
      "\n",
      "           0       0.70      0.65      0.67        60\n",
      "           1       0.88      0.90      0.89       167\n",
      "\n",
      "    accuracy                           0.83       227\n",
      "   macro avg       0.79      0.77      0.78       227\n",
      "weighted avg       0.83      0.83      0.83       227\n",
      "\n"
     ]
    },
    {
     "data": {
      "image/png": "[encoded data removed]",
      "text/plain": [
       "<Figure size 288x288 with 2 Axes>"
      ]
     },
     "metadata": {
      "needs_background": "light"
     },
     "output_type": "display_data"
    },
    {
     "name": "stdout",
     "output_type": "stream",
     "text": [
      "f1 is:  0.8875739644970414\n",
      "ROC-AUC Score is:  0.7741017964071857\n"
     ]
    },
    {
     "data": {
      "image/png": "[encoded data removed]",
      "text/plain": [
       "<Figure size 432x288 with 1 Axes>"
      ]
     },
     "metadata": {
      "needs_background": "light"
     },
     "output_type": "display_data"
    }
   ],
   "source": [
    "test_set_acc_tree = metrics.accuracy_score(y_test, predict_tree)\n",
    "train_set_acc_tree = metrics.accuracy_score(y_train, tree.predict(X_train_pca))\n",
    "\n",
    "print(\"Test set Accuracy: \", test_set_acc_tree)\n",
    "print(\"Train set Accuracy: \", train_set_acc_tree)\n",
    "\n",
    "print(confusion_matrix(y_test, predict_tree, labels=[1,0]))\n",
    "print (classification_report(y_test, predict_tree))\n",
    "cm = confusion_matrix(y_test, predict_tree)\n",
    "fig, ax = plt.subplots(figsize=(4,4))\n",
    "sns.heatmap(cm, annot=True)\n",
    "plt.show()\n",
    "\n",
    "print('f1 is: ',f1_score(y_test, predict_tree))\n",
    "\n",
    "score_tree = roc_auc_score(y_test, predict_tree)\n",
    "print('ROC-AUC Score is: ', score_tree)\n",
    "fpr, tpr, thresholds = roc_curve(y_test, predict_tree)\n",
    "plt.plot(fpr, tpr, label='ROC Curve (area=%0.2f)' % score_tree)\n",
    "plt.plot([0,1], [0,1], 'k--')\n",
    "plt.legend()\n",
    "plt.show()"
   ]
  },
  {
   "cell_type": "code",
   "execution_count": 321,
   "id": "82574dab-1c93-40ed-a17e-d56587d8e45a",
   "metadata": {},
   "outputs": [],
   "source": [
    "cv_acc = df_tree[df_tree.depth == 7]['mean acc in cross_validation'].values[0]\n",
    "all_acc_tree = [cv_acc, test_set_acc_tree, train_set_acc_tree, score_tree]\n",
    "df_acc_after_pca.loc['DecisionTreeClassifier'] = all_acc_tree"
   ]
  },
  {
   "cell_type": "markdown",
   "id": "8311b8ac-5c93-41cc-9f6a-bd0f9e92c11d",
   "metadata": {},
   "source": [
    "# KNN"
   ]
  },
  {
   "cell_type": "code",
   "execution_count": 322,
   "id": "aaa285b1-9d16-474b-8379-65bbee9c786b",
   "metadata": {},
   "outputs": [
    {
     "data": {
      "text/html": [
       "<div>\n",
       "<style scoped>\n",
       "    .dataframe tbody tr th:only-of-type {\n",
       "        vertical-align: middle;\n",
       "    }\n",
       "\n",
       "    .dataframe tbody tr th {\n",
       "        vertical-align: top;\n",
       "    }\n",
       "\n",
       "    .dataframe thead th {\n",
       "        text-align: right;\n",
       "    }\n",
       "</style>\n",
       "<table border=\"1\" class=\"dataframe\">\n",
       "  <thead>\n",
       "    <tr style=\"text-align: right;\">\n",
       "      <th></th>\n",
       "      <th>n_neighbors</th>\n",
       "      <th>mean acc in cross_validation</th>\n",
       "    </tr>\n",
       "  </thead>\n",
       "  <tbody>\n",
       "    <tr>\n",
       "      <th>0</th>\n",
       "      <td>2</td>\n",
       "      <td>0.844636</td>\n",
       "    </tr>\n",
       "    <tr>\n",
       "      <th>1</th>\n",
       "      <td>3</td>\n",
       "      <td>0.837197</td>\n",
       "    </tr>\n",
       "    <tr>\n",
       "      <th>2</th>\n",
       "      <td>4</td>\n",
       "      <td>0.844726</td>\n",
       "    </tr>\n",
       "    <tr>\n",
       "      <th>3</th>\n",
       "      <td>5</td>\n",
       "      <td>0.816316</td>\n",
       "    </tr>\n",
       "    <tr>\n",
       "      <th>4</th>\n",
       "      <td>6</td>\n",
       "      <td>0.825822</td>\n",
       "    </tr>\n",
       "    <tr>\n",
       "      <th>5</th>\n",
       "      <td>7</td>\n",
       "      <td>0.833369</td>\n",
       "    </tr>\n",
       "    <tr>\n",
       "      <th>6</th>\n",
       "      <td>8</td>\n",
       "      <td>0.829614</td>\n",
       "    </tr>\n",
       "    <tr>\n",
       "      <th>7</th>\n",
       "      <td>9</td>\n",
       "      <td>0.831518</td>\n",
       "    </tr>\n",
       "    <tr>\n",
       "      <th>8</th>\n",
       "      <td>10</td>\n",
       "      <td>0.835328</td>\n",
       "    </tr>\n",
       "  </tbody>\n",
       "</table>\n",
       "</div>"
      ],
      "text/plain": [
       "   n_neighbors  mean acc in cross_validation\n",
       "0            2                      0.844636\n",
       "1            3                      0.837197\n",
       "2            4                      0.844726\n",
       "3            5                      0.816316\n",
       "4            6                      0.825822\n",
       "5            7                      0.833369\n",
       "6            8                      0.829614\n",
       "7            9                      0.831518\n",
       "8           10                      0.835328"
      ]
     },
     "execution_count": 322,
     "metadata": {},
     "output_type": "execute_result"
    }
   ],
   "source": [
    "n_neighbors_list = [2,3,4,5,6,7,8,9,10]\n",
    "df_knn = pd.DataFrame()\n",
    "mean_list = []\n",
    "\n",
    "for k in n_neighbors_list:\n",
    "    knn = KNeighborsClassifier(n_neighbors=k)\n",
    "    scores = cross_val_score(knn, X_train_pca, y_train, cv=5)\n",
    "    mean = scores.mean()\n",
    "    mean_list.append(mean)\n",
    "df_knn['n_neighbors'] = n_neighbors_list\n",
    "df_knn['mean acc in cross_validation'] = mean_list\n",
    "df_knn"
   ]
  },
  {
   "cell_type": "code",
   "execution_count": 323,
   "id": "ddc23e9f-a4e8-41f4-bba9-32289b27dd7a",
   "metadata": {},
   "outputs": [],
   "source": [
    "knn = KNeighborsClassifier(n_neighbors=2)\n",
    "knn.fit(X_train_pca, y_train)\n",
    "predict_knn = knn.predict(X_test_pca)"
   ]
  },
  {
   "cell_type": "code",
   "execution_count": 324,
   "id": "28cd8887-9460-4029-84f9-cdea8554de53",
   "metadata": {},
   "outputs": [
    {
     "name": "stdout",
     "output_type": "stream",
     "text": [
      "Test set Accuracy:  0.7929515418502202\n",
      "Train set Accuracy:  0.9696969696969697\n",
      "[[130  37]\n",
      " [ 10  50]]\n",
      "              precision    recall  f1-score   support\n",
      "\n",
      "           0       0.57      0.83      0.68        60\n",
      "           1       0.93      0.78      0.85       167\n",
      "\n",
      "    accuracy                           0.79       227\n",
      "   macro avg       0.75      0.81      0.76       227\n",
      "weighted avg       0.84      0.79      0.80       227\n",
      "\n"
     ]
    },
    {
     "data": {
      "image/png": "[encoded data removed]",
      "text/plain": [
       "<Figure size 288x288 with 2 Axes>"
      ]
     },
     "metadata": {
      "needs_background": "light"
     },
     "output_type": "display_data"
    },
    {
     "name": "stdout",
     "output_type": "stream",
     "text": [
      "f1 is:  0.8469055374592835\n",
      "ROC-AUC Score is:  0.8058882235528944\n"
     ]
    },
    {
     "data": {
      "image/png": "[encoded data removed]",
      "text/plain": [
       "<Figure size 432x288 with 1 Axes>"
      ]
     },
     "metadata": {
      "needs_background": "light"
     },
     "output_type": "display_data"
    }
   ],
   "source": [
    "test_set_acc_knn = metrics.accuracy_score(y_test, predict_knn)\n",
    "train_set_acc_knn = metrics.accuracy_score(y_train, knn.predict(X_train_pca))\n",
    "\n",
    "print(\"Test set Accuracy: \", test_set_acc_knn)\n",
    "print(\"Train set Accuracy: \", train_set_acc_knn)\n",
    "\n",
    "print(confusion_matrix(y_test, predict_knn, labels=[1,0]))\n",
    "print (classification_report(y_test, predict_knn))\n",
    "cm = confusion_matrix(y_test, predict_knn)\n",
    "fig, ax = plt.subplots(figsize=(4,4))\n",
    "sns.heatmap(cm, annot=True)\n",
    "plt.show()\n",
    "\n",
    "print('f1 is: ',f1_score(y_test, predict_knn))\n",
    "\n",
    "score_knn = roc_auc_score(y_test, predict_knn)\n",
    "print('ROC-AUC Score is: ', score_knn)\n",
    "fpr, tpr, thresholds = roc_curve(y_test, predict_knn)\n",
    "plt.plot(fpr, tpr, label='ROC Curve (area=%0.2f)' % score_knn)\n",
    "plt.plot([0,1], [0,1], 'k--')\n",
    "plt.legend()\n",
    "plt.show()"
   ]
  },
  {
   "cell_type": "code",
   "execution_count": 325,
   "id": "9292421e-5272-4a6f-9d37-f147b406cadb",
   "metadata": {},
   "outputs": [],
   "source": [
    "cv_acc = df_knn[df_knn.n_neighbors == 2]['mean acc in cross_validation'].values[0]\n",
    "all_acc_knn = [cv_acc, test_set_acc_knn, train_set_acc_knn, score_knn]"
   ]
  },
  {
   "cell_type": "code",
   "execution_count": 326,
   "id": "6f58ce64-f131-433a-9208-fc8167e0e04a",
   "metadata": {},
   "outputs": [],
   "source": [
    "df_acc_after_pca.loc['KNeighborsClassifier'] = all_acc_knn"
   ]
  },
  {
   "cell_type": "markdown",
   "id": "3b2f0f81-156a-47b3-b40b-6417f13e5e07",
   "metadata": {},
   "source": [
    "# SVM"
   ]
  },
  {
   "cell_type": "code",
   "execution_count": 327,
   "id": "b842ca0a-ed48-46b3-bf9c-cb7e9d67d40d",
   "metadata": {},
   "outputs": [
    {
     "data": {
      "text/html": [
       "<div>\n",
       "<style scoped>\n",
       "    .dataframe tbody tr th:only-of-type {\n",
       "        vertical-align: middle;\n",
       "    }\n",
       "\n",
       "    .dataframe tbody tr th {\n",
       "        vertical-align: top;\n",
       "    }\n",
       "\n",
       "    .dataframe thead th {\n",
       "        text-align: right;\n",
       "    }\n",
       "</style>\n",
       "<table border=\"1\" class=\"dataframe\">\n",
       "  <thead>\n",
       "    <tr style=\"text-align: right;\">\n",
       "      <th></th>\n",
       "      <th>C</th>\n",
       "      <th>mean acc in cross_validation</th>\n",
       "    </tr>\n",
       "  </thead>\n",
       "  <tbody>\n",
       "    <tr>\n",
       "      <th>0</th>\n",
       "      <td>0.001</td>\n",
       "      <td>0.750009</td>\n",
       "    </tr>\n",
       "    <tr>\n",
       "      <th>1</th>\n",
       "      <td>0.005</td>\n",
       "      <td>0.750009</td>\n",
       "    </tr>\n",
       "    <tr>\n",
       "      <th>2</th>\n",
       "      <td>0.010</td>\n",
       "      <td>0.750009</td>\n",
       "    </tr>\n",
       "    <tr>\n",
       "      <th>3</th>\n",
       "      <td>0.050</td>\n",
       "      <td>0.750009</td>\n",
       "    </tr>\n",
       "    <tr>\n",
       "      <th>4</th>\n",
       "      <td>0.100</td>\n",
       "      <td>0.750009</td>\n",
       "    </tr>\n",
       "    <tr>\n",
       "      <th>5</th>\n",
       "      <td>0.500</td>\n",
       "      <td>0.831465</td>\n",
       "    </tr>\n",
       "    <tr>\n",
       "      <th>6</th>\n",
       "      <td>0.800</td>\n",
       "      <td>0.854196</td>\n",
       "    </tr>\n",
       "    <tr>\n",
       "      <th>7</th>\n",
       "      <td>1.000</td>\n",
       "      <td>0.857969</td>\n",
       "    </tr>\n",
       "    <tr>\n",
       "      <th>8</th>\n",
       "      <td>2.000</td>\n",
       "      <td>0.861779</td>\n",
       "    </tr>\n",
       "    <tr>\n",
       "      <th>9</th>\n",
       "      <td>5.000</td>\n",
       "      <td>0.859838</td>\n",
       "    </tr>\n",
       "    <tr>\n",
       "      <th>10</th>\n",
       "      <td>8.000</td>\n",
       "      <td>0.873136</td>\n",
       "    </tr>\n",
       "    <tr>\n",
       "      <th>11</th>\n",
       "      <td>10.000</td>\n",
       "      <td>0.869398</td>\n",
       "    </tr>\n",
       "  </tbody>\n",
       "</table>\n",
       "</div>"
      ],
      "text/plain": [
       "         C  mean acc in cross_validation\n",
       "0    0.001                      0.750009\n",
       "1    0.005                      0.750009\n",
       "2    0.010                      0.750009\n",
       "3    0.050                      0.750009\n",
       "4    0.100                      0.750009\n",
       "5    0.500                      0.831465\n",
       "6    0.800                      0.854196\n",
       "7    1.000                      0.857969\n",
       "8    2.000                      0.861779\n",
       "9    5.000                      0.859838\n",
       "10   8.000                      0.873136\n",
       "11  10.000                      0.869398"
      ]
     },
     "execution_count": 327,
     "metadata": {},
     "output_type": "execute_result"
    }
   ],
   "source": [
    "C_s = [0.001, 0.005, 0.01, 0.05, 0.1, 0.5, 0.8, 1, 2, 5, 8, 10]\n",
    "df_svm = pd.DataFrame()\n",
    "mean_list = []\n",
    "\n",
    "for C in C_s:\n",
    "    clf = svm.SVC(kernel='rbf', C=C)\n",
    "    scores = cross_val_score(clf, X_train_pca, y_train, cv=5)\n",
    "    mean = scores.mean()\n",
    "    mean_list.append(mean)\n",
    "df_svm['C'] = C_s\n",
    "df_svm['mean acc in cross_validation'] = mean_list\n",
    "df_svm"
   ]
  },
  {
   "cell_type": "code",
   "execution_count": 328,
   "id": "51756d10-5ef5-4eeb-9d7e-2cb4b3bb7dfc",
   "metadata": {},
   "outputs": [],
   "source": [
    "clf = svm.SVC(kernel='rbf', C=8)\n",
    "clf.fit(X_train_pca, y_train)\n",
    "predict_svm = clf.predict(X_test_pca)"
   ]
  },
  {
   "cell_type": "code",
   "execution_count": 329,
   "id": "74fd0a02-94aa-49ce-aec3-669577a49956",
   "metadata": {},
   "outputs": [
    {
     "name": "stdout",
     "output_type": "stream",
     "text": [
      "Test set Accuracy:  0.8766519823788547\n",
      "Train set Accuracy:  0.9621212121212122\n",
      "[[160   7]\n",
      " [ 21  39]]\n",
      "              precision    recall  f1-score   support\n",
      "\n",
      "           0       0.85      0.65      0.74        60\n",
      "           1       0.88      0.96      0.92       167\n",
      "\n",
      "    accuracy                           0.88       227\n",
      "   macro avg       0.87      0.80      0.83       227\n",
      "weighted avg       0.87      0.88      0.87       227\n",
      "\n"
     ]
    },
    {
     "data": {
      "image/png": "[encoded data removed]",
      "text/plain": [
       "<Figure size 288x288 with 2 Axes>"
      ]
     },
     "metadata": {
      "needs_background": "light"
     },
     "output_type": "display_data"
    },
    {
     "name": "stdout",
     "output_type": "stream",
     "text": [
      "f1 is:  0.9195402298850575\n",
      "ROC-AUC Score is:  0.8040419161676646\n"
     ]
    },
    {
     "data": {
      "image/png": "[encoded data removed]",
      "text/plain": [
       "<Figure size 432x288 with 1 Axes>"
      ]
     },
     "metadata": {
      "needs_background": "light"
     },
     "output_type": "display_data"
    }
   ],
   "source": [
    "test_set_acc_svm = metrics.accuracy_score(y_test, predict_svm)\n",
    "train_set_acc_svm = metrics.accuracy_score(y_train, clf.predict(X_train_pca))\n",
    "\n",
    "print(\"Test set Accuracy: \", test_set_acc_svm)\n",
    "print(\"Train set Accuracy: \", train_set_acc_svm)\n",
    "\n",
    "print(confusion_matrix(y_test, predict_svm, labels=[1,0]))\n",
    "print (classification_report(y_test, predict_svm))\n",
    "cm = confusion_matrix(y_test, predict_svm)\n",
    "fig, ax = plt.subplots(figsize=(4,4))\n",
    "sns.heatmap(cm, annot=True)\n",
    "plt.show()\n",
    "\n",
    "print('f1 is: ',f1_score(y_test, predict_svm))\n",
    "\n",
    "score_svm = roc_auc_score(y_test, predict_svm)\n",
    "print('ROC-AUC Score is: ', score_svm)\n",
    "fpr, tpr, thresholds = roc_curve(y_test, predict_svm)\n",
    "plt.plot(fpr, tpr, label='ROC Curve (area=%0.2f)' % score_svm)\n",
    "plt.plot([0,1], [0,1], 'k--')\n",
    "plt.legend()\n",
    "plt.show()"
   ]
  },
  {
   "cell_type": "code",
   "execution_count": 330,
   "id": "f54b8dc2-c15b-41d5-a3d9-691e9bc470b0",
   "metadata": {},
   "outputs": [],
   "source": [
    "cv_acc = df_svm[df_svm.C == 8]['mean acc in cross_validation'].values[0]\n",
    "all_acc_svm = [cv_acc, test_set_acc_svm, train_set_acc_svm, score_svm]"
   ]
  },
  {
   "cell_type": "code",
   "execution_count": 331,
   "id": "7c9954fb-5bf2-4473-b863-b864c7217c94",
   "metadata": {},
   "outputs": [],
   "source": [
    "df_acc_after_pca.loc['svm'] = all_acc_svm"
   ]
  },
  {
   "cell_type": "markdown",
   "id": "4226574d-8977-4b70-b603-0bfded72f284",
   "metadata": {},
   "source": [
    "# random forest"
   ]
  },
  {
   "cell_type": "code",
   "execution_count": 332,
   "id": "3c79ed41-4bc8-48c3-898b-36613d22bcbc",
   "metadata": {},
   "outputs": [
    {
     "data": {
      "text/html": [
       "<div>\n",
       "<style scoped>\n",
       "    .dataframe tbody tr th:only-of-type {\n",
       "        vertical-align: middle;\n",
       "    }\n",
       "\n",
       "    .dataframe tbody tr th {\n",
       "        vertical-align: top;\n",
       "    }\n",
       "\n",
       "    .dataframe thead th {\n",
       "        text-align: right;\n",
       "    }\n",
       "</style>\n",
       "<table border=\"1\" class=\"dataframe\">\n",
       "  <thead>\n",
       "    <tr style=\"text-align: right;\">\n",
       "      <th></th>\n",
       "      <th>depth</th>\n",
       "      <th>mean acc in cross_validation</th>\n",
       "    </tr>\n",
       "  </thead>\n",
       "  <tbody>\n",
       "    <tr>\n",
       "      <th>0</th>\n",
       "      <td>2</td>\n",
       "      <td>0.757592</td>\n",
       "    </tr>\n",
       "    <tr>\n",
       "      <th>1</th>\n",
       "      <td>4</td>\n",
       "      <td>0.793513</td>\n",
       "    </tr>\n",
       "    <tr>\n",
       "      <th>2</th>\n",
       "      <td>6</td>\n",
       "      <td>0.827601</td>\n",
       "    </tr>\n",
       "    <tr>\n",
       "      <th>3</th>\n",
       "      <td>8</td>\n",
       "      <td>0.833315</td>\n",
       "    </tr>\n",
       "    <tr>\n",
       "      <th>4</th>\n",
       "      <td>10</td>\n",
       "      <td>0.840863</td>\n",
       "    </tr>\n",
       "    <tr>\n",
       "      <th>5</th>\n",
       "      <td>12</td>\n",
       "      <td>0.842839</td>\n",
       "    </tr>\n",
       "    <tr>\n",
       "      <th>6</th>\n",
       "      <td>15</td>\n",
       "      <td>0.846559</td>\n",
       "    </tr>\n",
       "    <tr>\n",
       "      <th>7</th>\n",
       "      <td>20</td>\n",
       "      <td>0.844690</td>\n",
       "    </tr>\n",
       "    <tr>\n",
       "      <th>8</th>\n",
       "      <td>25</td>\n",
       "      <td>0.856083</td>\n",
       "    </tr>\n",
       "  </tbody>\n",
       "</table>\n",
       "</div>"
      ],
      "text/plain": [
       "   depth  mean acc in cross_validation\n",
       "0      2                      0.757592\n",
       "1      4                      0.793513\n",
       "2      6                      0.827601\n",
       "3      8                      0.833315\n",
       "4     10                      0.840863\n",
       "5     12                      0.842839\n",
       "6     15                      0.846559\n",
       "7     20                      0.844690\n",
       "8     25                      0.856083"
      ]
     },
     "execution_count": 332,
     "metadata": {},
     "output_type": "execute_result"
    }
   ],
   "source": [
    "depth_list = [2, 4, 6, 8, 10, 12, 15, 20, 25]\n",
    "df_forest = pd.DataFrame()\n",
    "mean_list = []\n",
    "\n",
    "for depth in depth_list:\n",
    "    forest = RandomForestClassifier(criterion=\"entropy\", max_depth = depth)\n",
    "    scores = cross_val_score(forest, X_train_pca, y_train, cv=5)\n",
    "    mean = scores.mean()\n",
    "    mean_list.append(mean)\n",
    "df_forest['depth'] = depth_list\n",
    "df_forest['mean acc in cross_validation'] = mean_list\n",
    "df_forest"
   ]
  },
  {
   "cell_type": "code",
   "execution_count": 333,
   "id": "9027db09-889f-4f8e-9306-5a8818ef043d",
   "metadata": {},
   "outputs": [],
   "source": [
    "forest = RandomForestClassifier(criterion=\"entropy\", max_depth = 12)\n",
    "forest.fit(X_train_pca, y_train)\n",
    "predict_forest = forest.predict(X_test_pca)"
   ]
  },
  {
   "cell_type": "code",
   "execution_count": 334,
   "id": "8461448d-c3b0-430e-be4a-3aea234c9b8a",
   "metadata": {},
   "outputs": [
    {
     "name": "stdout",
     "output_type": "stream",
     "text": [
      "Test set Accuracy:  0.8502202643171806\n",
      "Train set Accuracy:  1.0\n",
      "[[165   2]\n",
      " [ 32  28]]\n",
      "              precision    recall  f1-score   support\n",
      "\n",
      "           0       0.93      0.47      0.62        60\n",
      "           1       0.84      0.99      0.91       167\n",
      "\n",
      "    accuracy                           0.85       227\n",
      "   macro avg       0.89      0.73      0.76       227\n",
      "weighted avg       0.86      0.85      0.83       227\n",
      "\n"
     ]
    },
    {
     "data": {
      "image/png": "[encoded data removed]",
      "text/plain": [
       "<Figure size 288x288 with 2 Axes>"
      ]
     },
     "metadata": {
      "needs_background": "light"
     },
     "output_type": "display_data"
    },
    {
     "name": "stdout",
     "output_type": "stream",
     "text": [
      "f1 is:  0.9065934065934065\n",
      "ROC-AUC Score is:  0.7273453093812376\n"
     ]
    },
    {
     "data": {
      "image/png": "[encoded data removed]",
      "text/plain": [
       "<Figure size 432x288 with 1 Axes>"
      ]
     },
     "metadata": {
      "needs_background": "light"
     },
     "output_type": "display_data"
    }
   ],
   "source": [
    "test_set_acc_forest = metrics.accuracy_score(y_test, predict_forest)\n",
    "train_set_acc_forest = metrics.accuracy_score(y_train, forest.predict(X_train_pca))\n",
    "\n",
    "print(\"Test set Accuracy: \", test_set_acc_forest)\n",
    "print(\"Train set Accuracy: \", train_set_acc_forest)\n",
    "\n",
    "print(confusion_matrix(y_test, predict_forest, labels=[1,0]))\n",
    "print (classification_report(y_test, predict_forest))\n",
    "cm = confusion_matrix(y_test, predict_forest)\n",
    "fig, ax = plt.subplots(figsize=(4,4))\n",
    "sns.heatmap(cm, annot=True)\n",
    "plt.show()\n",
    "\n",
    "print('f1 is: ',f1_score(y_test, predict_forest))\n",
    "\n",
    "score_forest = roc_auc_score(y_test, predict_forest)\n",
    "print('ROC-AUC Score is: ', score_forest)\n",
    "fpr, tpr, thresholds = roc_curve(y_test, predict_forest)\n",
    "plt.plot(fpr, tpr, label='ROC Curve (area=%0.2f)' % score_forest)\n",
    "plt.plot([0,1], [0,1], 'k--')\n",
    "plt.legend()\n",
    "plt.show()"
   ]
  },
  {
   "cell_type": "code",
   "execution_count": 335,
   "id": "393fe58e-37d2-4a0c-813e-f344d15d420b",
   "metadata": {},
   "outputs": [],
   "source": [
    "cv_acc = df_forest[df_forest.depth == 12]['mean acc in cross_validation'].values[0]\n",
    "all_acc_forest = [cv_acc, test_set_acc_forest, train_set_acc_forest, score_forest]"
   ]
  },
  {
   "cell_type": "code",
   "execution_count": 336,
   "id": "e54448f1-e3dd-4f72-9499-b268ce7dafba",
   "metadata": {},
   "outputs": [],
   "source": [
    "df_acc_after_pca.loc['RandomForestClassifier'] = all_acc_forest"
   ]
  },
  {
   "cell_type": "markdown",
   "id": "22a4233f-a1dd-4e6f-b2dd-bce96f5b932a",
   "metadata": {},
   "source": [
    "# results"
   ]
  },
  {
   "cell_type": "markdown",
   "id": "c831e813-d64e-47bd-8fd3-3e388f1bc6c0",
   "metadata": {},
   "source": [
    "Now it's time for the conclusion. First, we examine the performance of the models before PCA. As you can see in the \"df_acc_before_pca\" table, the accuracy of all models for the test set is good. To be more precise, we can say that the accuracy of the KNN, SVM, and randomForest models in the test set is the same and better than that of the decisionTree model. However, considering the ROC-AUC Score, the KNN model outperforms the other models.\n",
    "\n",
    "Now, let's move on to PCA. For lower parameters like numbers between 2 and 20, we encountered the problem of underfitting. In general, we did not observe a specific pattern of numbers for choosing the PCA parameter, except that as the parameter decreases, the accuracy of the KNN model usually decreases as well. When we chose 40 as the parameter for this task, the accuracy of the decisionTree model was higher, but the accuracy of KNN was lower. After PCA, the best model to choose is SVM. Therefore, it can be said that with a small number of features for the dataset, KNN is a better choice for training, and using KNN is not a good idea. However, when there are many features, using KNN is better for this dataset. It should be noted that after trying different numbers for the n_components parameter, we found that the accuracy for large numbers is usually not significantly different, and it is almost equal to the accuracy of the models when not using PCA."
   ]
  },
  {
   "cell_type": "code",
   "execution_count": 337,
   "id": "6106553c-2f5c-44f7-b97d-d8c46dcc657f",
   "metadata": {},
   "outputs": [
    {
     "data": {
      "text/html": [
       "<div>\n",
       "<style scoped>\n",
       "    .dataframe tbody tr th:only-of-type {\n",
       "        vertical-align: middle;\n",
       "    }\n",
       "\n",
       "    .dataframe tbody tr th {\n",
       "        vertical-align: top;\n",
       "    }\n",
       "\n",
       "    .dataframe thead th {\n",
       "        text-align: right;\n",
       "    }\n",
       "</style>\n",
       "<table border=\"1\" class=\"dataframe\">\n",
       "  <thead>\n",
       "    <tr style=\"text-align: right;\">\n",
       "      <th></th>\n",
       "      <th>cv_acc</th>\n",
       "      <th>test_set_acc</th>\n",
       "      <th>train_set_acc</th>\n",
       "      <th>ROC-AUC Score</th>\n",
       "    </tr>\n",
       "  </thead>\n",
       "  <tbody>\n",
       "    <tr>\n",
       "      <th>DecisionTreeClassifier</th>\n",
       "      <td>0.788014</td>\n",
       "      <td>0.832599</td>\n",
       "      <td>0.897727</td>\n",
       "      <td>0.774102</td>\n",
       "    </tr>\n",
       "    <tr>\n",
       "      <th>KNeighborsClassifier</th>\n",
       "      <td>0.844636</td>\n",
       "      <td>0.792952</td>\n",
       "      <td>0.969697</td>\n",
       "      <td>0.805888</td>\n",
       "    </tr>\n",
       "    <tr>\n",
       "      <th>svm</th>\n",
       "      <td>0.873136</td>\n",
       "      <td>0.876652</td>\n",
       "      <td>0.962121</td>\n",
       "      <td>0.804042</td>\n",
       "    </tr>\n",
       "    <tr>\n",
       "      <th>RandomForestClassifier</th>\n",
       "      <td>0.842839</td>\n",
       "      <td>0.850220</td>\n",
       "      <td>1.000000</td>\n",
       "      <td>0.727345</td>\n",
       "    </tr>\n",
       "  </tbody>\n",
       "</table>\n",
       "</div>"
      ],
      "text/plain": [
       "                          cv_acc  test_set_acc  train_set_acc  ROC-AUC Score\n",
       "DecisionTreeClassifier  0.788014      0.832599       0.897727       0.774102\n",
       "KNeighborsClassifier    0.844636      0.792952       0.969697       0.805888\n",
       "svm                     0.873136      0.876652       0.962121       0.804042\n",
       "RandomForestClassifier  0.842839      0.850220       1.000000       0.727345"
      ]
     },
     "execution_count": 337,
     "metadata": {},
     "output_type": "execute_result"
    }
   ],
   "source": [
    "df_acc_after_pca"
   ]
  },
  {
   "cell_type": "code",
   "execution_count": 338,
   "id": "f6674615-4456-4359-9e14-c6dfc17e5335",
   "metadata": {},
   "outputs": [
    {
     "data": {
      "text/html": [
       "<div>\n",
       "<style scoped>\n",
       "    .dataframe tbody tr th:only-of-type {\n",
       "        vertical-align: middle;\n",
       "    }\n",
       "\n",
       "    .dataframe tbody tr th {\n",
       "        vertical-align: top;\n",
       "    }\n",
       "\n",
       "    .dataframe thead th {\n",
       "        text-align: right;\n",
       "    }\n",
       "</style>\n",
       "<table border=\"1\" class=\"dataframe\">\n",
       "  <thead>\n",
       "    <tr style=\"text-align: right;\">\n",
       "      <th></th>\n",
       "      <th>cv_acc</th>\n",
       "      <th>test_set_acc</th>\n",
       "      <th>train_set_acc</th>\n",
       "      <th>ROC-AUC Score</th>\n",
       "    </tr>\n",
       "  </thead>\n",
       "  <tbody>\n",
       "    <tr>\n",
       "      <th>DecisionTreeClassifier</th>\n",
       "      <td>0.757664</td>\n",
       "      <td>0.819383</td>\n",
       "      <td>0.952652</td>\n",
       "      <td>0.727745</td>\n",
       "    </tr>\n",
       "    <tr>\n",
       "      <th>KNeighborsClassifier</th>\n",
       "      <td>0.857951</td>\n",
       "      <td>0.863436</td>\n",
       "      <td>0.975379</td>\n",
       "      <td>0.859132</td>\n",
       "    </tr>\n",
       "    <tr>\n",
       "      <th>svm</th>\n",
       "      <td>0.888374</td>\n",
       "      <td>0.867841</td>\n",
       "      <td>1.000000</td>\n",
       "      <td>0.782036</td>\n",
       "    </tr>\n",
       "    <tr>\n",
       "      <th>RandomForestClassifier</th>\n",
       "      <td>0.852345</td>\n",
       "      <td>0.850220</td>\n",
       "      <td>0.986742</td>\n",
       "      <td>0.732685</td>\n",
       "    </tr>\n",
       "  </tbody>\n",
       "</table>\n",
       "</div>"
      ],
      "text/plain": [
       "                          cv_acc  test_set_acc  train_set_acc  ROC-AUC Score\n",
       "DecisionTreeClassifier  0.757664      0.819383       0.952652       0.727745\n",
       "KNeighborsClassifier    0.857951      0.863436       0.975379       0.859132\n",
       "svm                     0.888374      0.867841       1.000000       0.782036\n",
       "RandomForestClassifier  0.852345      0.850220       0.986742       0.732685"
      ]
     },
     "execution_count": 338,
     "metadata": {},
     "output_type": "execute_result"
    }
   ],
   "source": [
    "df_acc_before_pca"
   ]
  }
 ],
 "metadata": {
  "kernelspec": {
   "display_name": "Python 3 (ipykernel)",
   "language": "python",
   "name": "python3"
  },
  "language_info": {
   "codemirror_mode": {
    "name": "ipython",
    "version": 3
   },
   "file_extension": ".py",
   "mimetype": "text/x-python",
   "name": "python",
   "nbconvert_exporter": "python",
   "pygments_lexer": "ipython3",
   "version": "3.10.2"
  }
 },
 "nbformat": 4,
 "nbformat_minor": 5
}
