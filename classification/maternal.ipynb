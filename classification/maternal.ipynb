{
 "cells": [
  {
   "cell_type": "markdown",
   "id": "01bc6e7d-80f2-4499-a1cf-c286a11ff0f6",
   "metadata": {},
   "source": [
    "# **Maternal Health Risk Classification**"
   ]
  },
  {
   "cell_type": "markdown",
   "id": "42fbf832-e386-4b11-8a9c-522592012227",
   "metadata": {},
   "source": [
    "### import libraries"
   ]
  },
  {
   "cell_type": "code",
   "execution_count": 1,
   "id": "4271974e-a5a0-43b3-a8b2-267ceeaa4351",
   "metadata": {},
   "outputs": [],
   "source": [
    "import pandas as pd\n",
    "import numpy as np\n",
    "import matplotlib.pyplot as plt\n",
    "import seaborn as sns\n",
    "from sklearn.model_selection import cross_val_score\n",
    "from sklearn.metrics import r2_score\n",
    "from sklearn.preprocessing import StandardScaler"
   ]
  },
  {
   "cell_type": "markdown",
   "id": "c695de49-9c8e-4ed2-aba5-b6bacf7fad8f",
   "metadata": {},
   "source": [
    "### read dataset"
   ]
  },
  {
   "cell_type": "code",
   "execution_count": 2,
   "id": "9f023609-d9d7-44b3-8baa-d950d116f1e2",
   "metadata": {},
   "outputs": [
    {
     "data": {
      "text/html": [
       "<div>\n",
       "<style scoped>\n",
       "    .dataframe tbody tr th:only-of-type {\n",
       "        vertical-align: middle;\n",
       "    }\n",
       "\n",
       "    .dataframe tbody tr th {\n",
       "        vertical-align: top;\n",
       "    }\n",
       "\n",
       "    .dataframe thead th {\n",
       "        text-align: right;\n",
       "    }\n",
       "</style>\n",
       "<table border=\"1\" class=\"dataframe\">\n",
       "  <thead>\n",
       "    <tr style=\"text-align: right;\">\n",
       "      <th></th>\n",
       "      <th>Age</th>\n",
       "      <th>SystolicBP</th>\n",
       "      <th>DiastolicBP</th>\n",
       "      <th>BS</th>\n",
       "      <th>BodyTemp</th>\n",
       "      <th>HeartRate</th>\n",
       "      <th>RiskLevel</th>\n",
       "    </tr>\n",
       "  </thead>\n",
       "  <tbody>\n",
       "    <tr>\n",
       "      <th>0</th>\n",
       "      <td>25</td>\n",
       "      <td>130</td>\n",
       "      <td>80</td>\n",
       "      <td>15.0</td>\n",
       "      <td>98.0</td>\n",
       "      <td>86</td>\n",
       "      <td>high risk</td>\n",
       "    </tr>\n",
       "    <tr>\n",
       "      <th>1</th>\n",
       "      <td>35</td>\n",
       "      <td>140</td>\n",
       "      <td>90</td>\n",
       "      <td>13.0</td>\n",
       "      <td>98.0</td>\n",
       "      <td>70</td>\n",
       "      <td>high risk</td>\n",
       "    </tr>\n",
       "    <tr>\n",
       "      <th>2</th>\n",
       "      <td>29</td>\n",
       "      <td>90</td>\n",
       "      <td>70</td>\n",
       "      <td>8.0</td>\n",
       "      <td>100.0</td>\n",
       "      <td>80</td>\n",
       "      <td>high risk</td>\n",
       "    </tr>\n",
       "    <tr>\n",
       "      <th>3</th>\n",
       "      <td>30</td>\n",
       "      <td>140</td>\n",
       "      <td>85</td>\n",
       "      <td>7.0</td>\n",
       "      <td>98.0</td>\n",
       "      <td>70</td>\n",
       "      <td>high risk</td>\n",
       "    </tr>\n",
       "    <tr>\n",
       "      <th>4</th>\n",
       "      <td>35</td>\n",
       "      <td>120</td>\n",
       "      <td>60</td>\n",
       "      <td>6.1</td>\n",
       "      <td>98.0</td>\n",
       "      <td>76</td>\n",
       "      <td>low risk</td>\n",
       "    </tr>\n",
       "  </tbody>\n",
       "</table>\n",
       "</div>"
      ],
      "text/plain": [
       "   Age  SystolicBP  DiastolicBP    BS  BodyTemp  HeartRate  RiskLevel\n",
       "0   25         130           80  15.0      98.0         86  high risk\n",
       "1   35         140           90  13.0      98.0         70  high risk\n",
       "2   29          90           70   8.0     100.0         80  high risk\n",
       "3   30         140           85   7.0      98.0         70  high risk\n",
       "4   35         120           60   6.1      98.0         76   low risk"
      ]
     },
     "execution_count": 2,
     "metadata": {},
     "output_type": "execute_result"
    }
   ],
   "source": [
    "df = pd.read_csv('Maternal Health Risk Data Set.csv')\n",
    "df.head()"
   ]
  },
  {
   "cell_type": "markdown",
   "id": "74cdbc6d-d0db-4db9-8843-5d2ba0059e9d",
   "metadata": {},
   "source": [
    "### Information about dataset (shape, null columns, duplicated rows, ...)"
   ]
  },
  {
   "cell_type": "code",
   "execution_count": 3,
   "id": "629fe2da-9fbf-4cc8-b7dd-d855441e1a59",
   "metadata": {},
   "outputs": [
    {
     "data": {
      "text/plain": [
       "(1014, 7)"
      ]
     },
     "execution_count": 3,
     "metadata": {},
     "output_type": "execute_result"
    }
   ],
   "source": [
    "df.shape"
   ]
  },
  {
   "cell_type": "code",
   "execution_count": 4,
   "id": "43f653b8-f263-4e7e-bfae-0bb4c2a4b0a0",
   "metadata": {},
   "outputs": [
    {
     "data": {
      "text/plain": [
       "562"
      ]
     },
     "execution_count": 4,
     "metadata": {},
     "output_type": "execute_result"
    }
   ],
   "source": [
    "df.duplicated().sum()"
   ]
  },
  {
   "cell_type": "code",
   "execution_count": 5,
   "id": "48e612db-2ac7-44b0-900c-2c6601345e2d",
   "metadata": {},
   "outputs": [],
   "source": [
    "# df = df.drop_duplicates().reset_index(drop=True)"
   ]
  },
  {
   "cell_type": "code",
   "execution_count": 6,
   "id": "da6026d3-ad4b-4aa3-81ad-bac488e6afe6",
   "metadata": {},
   "outputs": [
    {
     "data": {
      "text/plain": [
       "0"
      ]
     },
     "execution_count": 6,
     "metadata": {},
     "output_type": "execute_result"
    }
   ],
   "source": [
    "df.isnull().sum().sum()"
   ]
  },
  {
   "cell_type": "code",
   "execution_count": 7,
   "id": "38983eea-a967-4ca7-ac86-e129f2c3482b",
   "metadata": {},
   "outputs": [
    {
     "name": "stdout",
     "output_type": "stream",
     "text": [
      "<class 'pandas.core.frame.DataFrame'>\n",
      "RangeIndex: 1014 entries, 0 to 1013\n",
      "Data columns (total 7 columns):\n",
      " #   Column       Non-Null Count  Dtype  \n",
      "---  ------       --------------  -----  \n",
      " 0   Age          1014 non-null   int64  \n",
      " 1   SystolicBP   1014 non-null   int64  \n",
      " 2   DiastolicBP  1014 non-null   int64  \n",
      " 3   BS           1014 non-null   float64\n",
      " 4   BodyTemp     1014 non-null   float64\n",
      " 5   HeartRate    1014 non-null   int64  \n",
      " 6   RiskLevel    1014 non-null   object \n",
      "dtypes: float64(2), int64(4), object(1)\n",
      "memory usage: 55.6+ KB\n"
     ]
    }
   ],
   "source": [
    "df.info()"
   ]
  },
  {
   "cell_type": "markdown",
   "id": "37d9fe68-515a-4f4f-af2f-5f34b31faabd",
   "metadata": {},
   "source": [
    "### statistical information of features"
   ]
  },
  {
   "cell_type": "code",
   "execution_count": 8,
   "id": "c43ebddc-3fc5-4180-a558-82af9362d86b",
   "metadata": {},
   "outputs": [
    {
     "data": {
      "text/html": [
       "<div>\n",
       "<style scoped>\n",
       "    .dataframe tbody tr th:only-of-type {\n",
       "        vertical-align: middle;\n",
       "    }\n",
       "\n",
       "    .dataframe tbody tr th {\n",
       "        vertical-align: top;\n",
       "    }\n",
       "\n",
       "    .dataframe thead th {\n",
       "        text-align: right;\n",
       "    }\n",
       "</style>\n",
       "<table border=\"1\" class=\"dataframe\">\n",
       "  <thead>\n",
       "    <tr style=\"text-align: right;\">\n",
       "      <th></th>\n",
       "      <th>Age</th>\n",
       "      <th>SystolicBP</th>\n",
       "      <th>DiastolicBP</th>\n",
       "      <th>BS</th>\n",
       "      <th>BodyTemp</th>\n",
       "      <th>HeartRate</th>\n",
       "    </tr>\n",
       "  </thead>\n",
       "  <tbody>\n",
       "    <tr>\n",
       "      <th>count</th>\n",
       "      <td>1014.000000</td>\n",
       "      <td>1014.000000</td>\n",
       "      <td>1014.000000</td>\n",
       "      <td>1014.000000</td>\n",
       "      <td>1014.000000</td>\n",
       "      <td>1014.000000</td>\n",
       "    </tr>\n",
       "    <tr>\n",
       "      <th>mean</th>\n",
       "      <td>29.871795</td>\n",
       "      <td>113.198225</td>\n",
       "      <td>76.460552</td>\n",
       "      <td>8.725986</td>\n",
       "      <td>98.665089</td>\n",
       "      <td>74.301775</td>\n",
       "    </tr>\n",
       "    <tr>\n",
       "      <th>std</th>\n",
       "      <td>13.474386</td>\n",
       "      <td>18.403913</td>\n",
       "      <td>13.885796</td>\n",
       "      <td>3.293532</td>\n",
       "      <td>1.371384</td>\n",
       "      <td>8.088702</td>\n",
       "    </tr>\n",
       "    <tr>\n",
       "      <th>min</th>\n",
       "      <td>10.000000</td>\n",
       "      <td>70.000000</td>\n",
       "      <td>49.000000</td>\n",
       "      <td>6.000000</td>\n",
       "      <td>98.000000</td>\n",
       "      <td>7.000000</td>\n",
       "    </tr>\n",
       "    <tr>\n",
       "      <th>25%</th>\n",
       "      <td>19.000000</td>\n",
       "      <td>100.000000</td>\n",
       "      <td>65.000000</td>\n",
       "      <td>6.900000</td>\n",
       "      <td>98.000000</td>\n",
       "      <td>70.000000</td>\n",
       "    </tr>\n",
       "    <tr>\n",
       "      <th>50%</th>\n",
       "      <td>26.000000</td>\n",
       "      <td>120.000000</td>\n",
       "      <td>80.000000</td>\n",
       "      <td>7.500000</td>\n",
       "      <td>98.000000</td>\n",
       "      <td>76.000000</td>\n",
       "    </tr>\n",
       "    <tr>\n",
       "      <th>75%</th>\n",
       "      <td>39.000000</td>\n",
       "      <td>120.000000</td>\n",
       "      <td>90.000000</td>\n",
       "      <td>8.000000</td>\n",
       "      <td>98.000000</td>\n",
       "      <td>80.000000</td>\n",
       "    </tr>\n",
       "    <tr>\n",
       "      <th>max</th>\n",
       "      <td>70.000000</td>\n",
       "      <td>160.000000</td>\n",
       "      <td>100.000000</td>\n",
       "      <td>19.000000</td>\n",
       "      <td>103.000000</td>\n",
       "      <td>90.000000</td>\n",
       "    </tr>\n",
       "  </tbody>\n",
       "</table>\n",
       "</div>"
      ],
      "text/plain": [
       "               Age   SystolicBP  DiastolicBP           BS     BodyTemp  \\\n",
       "count  1014.000000  1014.000000  1014.000000  1014.000000  1014.000000   \n",
       "mean     29.871795   113.198225    76.460552     8.725986    98.665089   \n",
       "std      13.474386    18.403913    13.885796     3.293532     1.371384   \n",
       "min      10.000000    70.000000    49.000000     6.000000    98.000000   \n",
       "25%      19.000000   100.000000    65.000000     6.900000    98.000000   \n",
       "50%      26.000000   120.000000    80.000000     7.500000    98.000000   \n",
       "75%      39.000000   120.000000    90.000000     8.000000    98.000000   \n",
       "max      70.000000   160.000000   100.000000    19.000000   103.000000   \n",
       "\n",
       "         HeartRate  \n",
       "count  1014.000000  \n",
       "mean     74.301775  \n",
       "std       8.088702  \n",
       "min       7.000000  \n",
       "25%      70.000000  \n",
       "50%      76.000000  \n",
       "75%      80.000000  \n",
       "max      90.000000  "
      ]
     },
     "execution_count": 8,
     "metadata": {},
     "output_type": "execute_result"
    }
   ],
   "source": [
    "df.describe()"
   ]
  },
  {
   "cell_type": "markdown",
   "id": "f8a9ad23-882e-46a2-b2e0-37b7295af96b",
   "metadata": {},
   "source": [
    "### name of features"
   ]
  },
  {
   "cell_type": "code",
   "execution_count": 9,
   "id": "349984a2-a42b-4fd0-9d56-ca7ad87508e9",
   "metadata": {},
   "outputs": [
    {
     "data": {
      "text/plain": [
       "Index(['Age', 'SystolicBP', 'DiastolicBP', 'BS', 'BodyTemp', 'HeartRate',\n",
       "       'RiskLevel'],\n",
       "      dtype='object')"
      ]
     },
     "execution_count": 9,
     "metadata": {},
     "output_type": "execute_result"
    }
   ],
   "source": [
    "df.columns"
   ]
  },
  {
   "cell_type": "markdown",
   "id": "cdba9f7c-1a0b-45e9-a76b-d01e7c3db6c0",
   "metadata": {},
   "source": [
    "### size of each class"
   ]
  },
  {
   "cell_type": "code",
   "execution_count": 10,
   "id": "b44430eb-8735-4357-8689-ab6be2730003",
   "metadata": {},
   "outputs": [
    {
     "data": {
      "text/plain": [
       "RiskLevel\n",
       "high risk    272\n",
       "low risk     406\n",
       "mid risk     336\n",
       "dtype: int64"
      ]
     },
     "execution_count": 10,
     "metadata": {},
     "output_type": "execute_result"
    }
   ],
   "source": [
    "df.groupby('RiskLevel').size()"
   ]
  },
  {
   "cell_type": "markdown",
   "id": "6a9037a7-77aa-473a-a094-98f6f204732b",
   "metadata": {},
   "source": [
    "### building array of features and the target as X, y, respectively"
   ]
  },
  {
   "cell_type": "code",
   "execution_count": 11,
   "id": "a0f41045-98b8-4a6a-a6e7-23d067a2f493",
   "metadata": {},
   "outputs": [],
   "source": [
    "X = df[['Age', 'SystolicBP', 'DiastolicBP', 'BS', 'BodyTemp', 'HeartRate']].values"
   ]
  },
  {
   "cell_type": "code",
   "execution_count": 12,
   "id": "99dccd05-9966-449d-be7b-a2137e1eed1d",
   "metadata": {},
   "outputs": [],
   "source": [
    "y = df['RiskLevel']"
   ]
  },
  {
   "cell_type": "markdown",
   "id": "ac5b5648-d876-48e7-aca1-0e71c0f846d5",
   "metadata": {},
   "source": [
    "We perform the encoding process using the `replace` function as well as a dictionary called `encoding_dict`:"
   ]
  },
  {
   "cell_type": "code",
   "execution_count": 13,
   "id": "7cf6c632-b73a-4bac-9230-4443a3e44daa",
   "metadata": {},
   "outputs": [],
   "source": [
    "encoding_dict = {'high risk':2 , 'low risk':0 , 'mid risk':1}"
   ]
  },
  {
   "cell_type": "code",
   "execution_count": 14,
   "id": "c25e9fa6-413c-444a-89a5-b86ee0a7844f",
   "metadata": {},
   "outputs": [],
   "source": [
    "y.replace(encoding_dict, inplace=True)"
   ]
  },
  {
   "cell_type": "code",
   "execution_count": 15,
   "id": "1278467d-ad29-4432-b163-025824003894",
   "metadata": {},
   "outputs": [],
   "source": [
    "y = y.values"
   ]
  },
  {
   "cell_type": "markdown",
   "id": "7a6d8944-2b0a-47fa-95fe-95fd1b30303c",
   "metadata": {},
   "source": [
    "### spliting data"
   ]
  },
  {
   "cell_type": "code",
   "execution_count": 16,
   "id": "235f7746-b6aa-44a7-9051-c1c977cbd212",
   "metadata": {},
   "outputs": [],
   "source": [
    "from sklearn.model_selection import train_test_split\n",
    "X_train, X_test, y_train, y_test = train_test_split(X, y, test_size=0.3, random_state=42)"
   ]
  },
  {
   "cell_type": "markdown",
   "id": "463c78c5-d653-4c33-b2cd-b155d5bfdb66",
   "metadata": {},
   "source": [
    "### scaling data"
   ]
  },
  {
   "cell_type": "code",
   "execution_count": 17,
   "id": "77bab97b-2ffc-4774-b2ee-1ead59705990",
   "metadata": {},
   "outputs": [],
   "source": [
    "sc = StandardScaler()\n",
    "X_train = sc.fit_transform(X_train)"
   ]
  },
  {
   "cell_type": "code",
   "execution_count": 18,
   "id": "de80cb20-83a7-496b-8e52-64e3ad24c749",
   "metadata": {},
   "outputs": [],
   "source": [
    "X_test = sc.transform (X_test)"
   ]
  },
  {
   "cell_type": "markdown",
   "id": "3661aeb5-5286-4369-8127-806a253651cd",
   "metadata": {},
   "source": [
    "### building dataframe of accuracy"
   ]
  },
  {
   "cell_type": "code",
   "execution_count": 19,
   "id": "57c471bb-3d10-4aac-8af5-d2a6e28b1d0f",
   "metadata": {},
   "outputs": [],
   "source": [
    "df_acc = pd.DataFrame(columns=['cv_acc', 'test_set_acc', 'train_set_acc'])"
   ]
  },
  {
   "cell_type": "markdown",
   "id": "ea802b53-9d94-4ce9-9c89-b940d506f59c",
   "metadata": {},
   "source": [
    "# DecisionTreeClassifier"
   ]
  },
  {
   "cell_type": "markdown",
   "id": "cc9fa7a7-c77e-4e87-b9bf-5057056542bf",
   "metadata": {},
   "source": [
    "The first model is the DecisionTreeClassifier. With different values of the depth parameter, we store the average cross_val_score accuracies in the DataFrame `df_tree` to see which parameter performs better."
   ]
  },
  {
   "cell_type": "code",
   "execution_count": 20,
   "id": "e17c1b6f-80a8-4ba4-bdfe-32479a47c8d8",
   "metadata": {},
   "outputs": [],
   "source": [
    "from sklearn.tree import DecisionTreeClassifier\n",
    "\n",
    "depth_list = [5, 7, 10, 12, 15, 18, 20, 22, 25]\n",
    "df_tree = pd.DataFrame()\n",
    "mean_list = []\n",
    "\n",
    "for depth in depth_list:\n",
    "    tree = DecisionTreeClassifier(criterion=\"entropy\", max_depth = depth)\n",
    "    scores = cross_val_score(tree, X_train, y_train, cv=5)\n",
    "    mean = scores.mean()\n",
    "    mean_list.append(mean)\n",
    "df_tree['depth'] = depth_list\n",
    "df_tree['mean acc in cross_validation'] = mean_list"
   ]
  },
  {
   "cell_type": "code",
   "execution_count": 21,
   "id": "7295d7d3-b9af-405e-b845-b1b3babcf3ba",
   "metadata": {},
   "outputs": [
    {
     "data": {
      "text/html": [
       "<div>\n",
       "<style scoped>\n",
       "    .dataframe tbody tr th:only-of-type {\n",
       "        vertical-align: middle;\n",
       "    }\n",
       "\n",
       "    .dataframe tbody tr th {\n",
       "        vertical-align: top;\n",
       "    }\n",
       "\n",
       "    .dataframe thead th {\n",
       "        text-align: right;\n",
       "    }\n",
       "</style>\n",
       "<table border=\"1\" class=\"dataframe\">\n",
       "  <thead>\n",
       "    <tr style=\"text-align: right;\">\n",
       "      <th></th>\n",
       "      <th>depth</th>\n",
       "      <th>mean acc in cross_validation</th>\n",
       "    </tr>\n",
       "  </thead>\n",
       "  <tbody>\n",
       "    <tr>\n",
       "      <th>0</th>\n",
       "      <td>5</td>\n",
       "      <td>0.719269</td>\n",
       "    </tr>\n",
       "    <tr>\n",
       "      <th>1</th>\n",
       "      <td>7</td>\n",
       "      <td>0.744691</td>\n",
       "    </tr>\n",
       "    <tr>\n",
       "      <th>2</th>\n",
       "      <td>10</td>\n",
       "      <td>0.796823</td>\n",
       "    </tr>\n",
       "    <tr>\n",
       "      <th>3</th>\n",
       "      <td>12</td>\n",
       "      <td>0.815183</td>\n",
       "    </tr>\n",
       "    <tr>\n",
       "      <th>4</th>\n",
       "      <td>15</td>\n",
       "      <td>0.836320</td>\n",
       "    </tr>\n",
       "    <tr>\n",
       "      <th>5</th>\n",
       "      <td>18</td>\n",
       "      <td>0.844811</td>\n",
       "    </tr>\n",
       "    <tr>\n",
       "      <th>6</th>\n",
       "      <td>20</td>\n",
       "      <td>0.839147</td>\n",
       "    </tr>\n",
       "    <tr>\n",
       "      <th>7</th>\n",
       "      <td>22</td>\n",
       "      <td>0.841994</td>\n",
       "    </tr>\n",
       "    <tr>\n",
       "      <th>8</th>\n",
       "      <td>25</td>\n",
       "      <td>0.843392</td>\n",
       "    </tr>\n",
       "  </tbody>\n",
       "</table>\n",
       "</div>"
      ],
      "text/plain": [
       "   depth  mean acc in cross_validation\n",
       "0      5                      0.719269\n",
       "1      7                      0.744691\n",
       "2     10                      0.796823\n",
       "3     12                      0.815183\n",
       "4     15                      0.836320\n",
       "5     18                      0.844811\n",
       "6     20                      0.839147\n",
       "7     22                      0.841994\n",
       "8     25                      0.843392"
      ]
     },
     "execution_count": 21,
     "metadata": {},
     "output_type": "execute_result"
    }
   ],
   "source": [
    "df_tree"
   ]
  },
  {
   "cell_type": "markdown",
   "id": "8b9358dd-e2d0-46df-8fb8-7db4542df217",
   "metadata": {},
   "source": [
    "It appears that a depth value of 15 is a good parameter. Now, we train our model on the training data and finally make predictions on the test data."
   ]
  },
  {
   "cell_type": "code",
   "execution_count": 22,
   "id": "968cca21-74fe-4501-91bc-bde6770943fd",
   "metadata": {},
   "outputs": [],
   "source": [
    "tree = DecisionTreeClassifier(criterion=\"entropy\", max_depth = 15)\n",
    "tree.fit(X_train, y_train)\n",
    "predict_tree = tree.predict(X_test)"
   ]
  },
  {
   "cell_type": "markdown",
   "id": "697947ae-b27f-4d14-989f-d50c49aacb81",
   "metadata": {},
   "source": [
    "Now, we evaluate the accuracy of our model on both the test and training datasets. Furthermore, we examine the confusion matrix."
   ]
  },
  {
   "cell_type": "code",
   "execution_count": 23,
   "id": "10d00a0e-bc90-485d-8d39-8b632e6b61c9",
   "metadata": {},
   "outputs": [
    {
     "name": "stdout",
     "output_type": "stream",
     "text": [
      "Test set Accuracy:  0.7901639344262295\n",
      "Train set Accuracy:  0.9393511988716502\n",
      "[[85 18]\n",
      " [25 88]]\n",
      "              precision    recall  f1-score   support\n",
      "\n",
      "           0       0.82      0.75      0.79       117\n",
      "           1       0.73      0.76      0.74       112\n",
      "           2       0.84      0.89      0.87        76\n",
      "\n",
      "    accuracy                           0.79       305\n",
      "   macro avg       0.80      0.80      0.80       305\n",
      "weighted avg       0.79      0.79      0.79       305\n",
      "\n"
     ]
    },
    {
     "data": {
      "image/png": "[encoded data removed]",
      "text/plain": [
       "<Figure size 288x288 with 2 Axes>"
      ]
     },
     "metadata": {
      "needs_background": "light"
     },
     "output_type": "display_data"
    },
    {
     "name": "stdout",
     "output_type": "stream",
     "text": [
      "f1 is:  0.7981048008444888\n"
     ]
    }
   ],
   "source": [
    "from sklearn import metrics\n",
    "\n",
    "test_set_acc_tree = metrics.accuracy_score(y_test, predict_tree)\n",
    "train_set_acc_tree = metrics.accuracy_score(y_train, tree.predict(X_train))\n",
    "\n",
    "print(\"Test set Accuracy: \", test_set_acc_tree)\n",
    "print(\"Train set Accuracy: \", train_set_acc_tree)\n",
    "\n",
    "from sklearn.metrics import classification_report, confusion_matrix\n",
    "import seaborn as sns\n",
    "print(confusion_matrix(y_test, predict_tree, labels=[1,0]))\n",
    "print (classification_report(y_test, predict_tree))\n",
    "cm = confusion_matrix(y_test, predict_tree)\n",
    "fig, ax = plt.subplots(figsize=(4,4))\n",
    "sns.heatmap(cm, annot=True)\n",
    "plt.show()\n",
    "\n",
    "from sklearn.metrics import f1_score\n",
    "print('f1 is: ',f1_score(y_test, predict_tree, average='macro'))"
   ]
  },
  {
   "cell_type": "markdown",
   "id": "6d94ac10-e198-455a-b752-ba8d3a6f0b51",
   "metadata": {},
   "source": [
    "As you can see, the accuracy on the test and training datasets is 80% and 94%, respectively. You can also visualize the confusion matrix information in the above chart. Additionally, the average accuracy percentage from cross-validation is 83%."
   ]
  },
  {
   "cell_type": "markdown",
   "id": "2cadcd4a-6e51-4167-8043-4f4c4b129ba8",
   "metadata": {},
   "source": [
    "### adding acc to the dataframe"
   ]
  },
  {
   "cell_type": "code",
   "execution_count": 24,
   "id": "5512580a-5c32-4558-99e9-e285d7f6034c",
   "metadata": {},
   "outputs": [],
   "source": [
    "cv_acc = df_tree[df_tree.depth == 15]['mean acc in cross_validation'].values[0]\n",
    "all_acc_tree = [cv_acc, test_set_acc_tree, train_set_acc_tree]"
   ]
  },
  {
   "cell_type": "code",
   "execution_count": 25,
   "id": "fca70da8-9985-4842-8626-c31ddea53380",
   "metadata": {},
   "outputs": [],
   "source": [
    "df_acc.loc['DecisionTreeClassifier'] = all_acc_tree"
   ]
  },
  {
   "cell_type": "markdown",
   "id": "219b46b6-ecac-48ed-bdd3-cbf8e11d7c60",
   "metadata": {},
   "source": [
    "# KNeighborsClassifier"
   ]
  },
  {
   "cell_type": "markdown",
   "id": "ec13f4ff-65ac-45fd-af29-c474f2ca4cb6",
   "metadata": {},
   "source": [
    "The next model is the KNeighborsClassifier, and its parameter is \"n_neighbors.\" Again, we choose the best parameter using the average accuracy from cross-validation."
   ]
  },
  {
   "cell_type": "code",
   "execution_count": 26,
   "id": "f624f557-1d5d-42e4-8da7-9fa74d8dc390",
   "metadata": {},
   "outputs": [],
   "source": [
    "from sklearn.neighbors import KNeighborsClassifier\n",
    "\n",
    "n_neighbors_list = [2,3,4,5,6,7,8,9,10]\n",
    "df_knn = pd.DataFrame()\n",
    "mean_list = []\n",
    "\n",
    "for k in n_neighbors_list:\n",
    "    knn = KNeighborsClassifier(n_neighbors=k)\n",
    "    scores = cross_val_score(knn, X_train, y_train, cv=5)\n",
    "    mean = scores.mean()\n",
    "    mean_list.append(mean)\n",
    "df_knn['n_neighbors'] = n_neighbors_list\n",
    "df_knn['mean acc in cross_validation'] = mean_list"
   ]
  },
  {
   "cell_type": "code",
   "execution_count": 27,
   "id": "0f54d08b-b9e0-43e1-90fd-b2b9e8c28700",
   "metadata": {},
   "outputs": [
    {
     "data": {
      "text/html": [
       "<div>\n",
       "<style scoped>\n",
       "    .dataframe tbody tr th:only-of-type {\n",
       "        vertical-align: middle;\n",
       "    }\n",
       "\n",
       "    .dataframe tbody tr th {\n",
       "        vertical-align: top;\n",
       "    }\n",
       "\n",
       "    .dataframe thead th {\n",
       "        text-align: right;\n",
       "    }\n",
       "</style>\n",
       "<table border=\"1\" class=\"dataframe\">\n",
       "  <thead>\n",
       "    <tr style=\"text-align: right;\">\n",
       "      <th></th>\n",
       "      <th>n_neighbors</th>\n",
       "      <th>mean acc in cross_validation</th>\n",
       "    </tr>\n",
       "  </thead>\n",
       "  <tbody>\n",
       "    <tr>\n",
       "      <th>0</th>\n",
       "      <td>2</td>\n",
       "      <td>0.709480</td>\n",
       "    </tr>\n",
       "    <tr>\n",
       "      <th>1</th>\n",
       "      <td>3</td>\n",
       "      <td>0.677035</td>\n",
       "    </tr>\n",
       "    <tr>\n",
       "      <th>2</th>\n",
       "      <td>4</td>\n",
       "      <td>0.661512</td>\n",
       "    </tr>\n",
       "    <tr>\n",
       "      <th>3</th>\n",
       "      <td>5</td>\n",
       "      <td>0.657277</td>\n",
       "    </tr>\n",
       "    <tr>\n",
       "      <th>4</th>\n",
       "      <td>6</td>\n",
       "      <td>0.661422</td>\n",
       "    </tr>\n",
       "    <tr>\n",
       "      <th>5</th>\n",
       "      <td>7</td>\n",
       "      <td>0.671322</td>\n",
       "    </tr>\n",
       "    <tr>\n",
       "      <th>6</th>\n",
       "      <td>8</td>\n",
       "      <td>0.665648</td>\n",
       "    </tr>\n",
       "    <tr>\n",
       "      <th>7</th>\n",
       "      <td>9</td>\n",
       "      <td>0.661422</td>\n",
       "    </tr>\n",
       "    <tr>\n",
       "      <th>8</th>\n",
       "      <td>10</td>\n",
       "      <td>0.664249</td>\n",
       "    </tr>\n",
       "  </tbody>\n",
       "</table>\n",
       "</div>"
      ],
      "text/plain": [
       "   n_neighbors  mean acc in cross_validation\n",
       "0            2                      0.709480\n",
       "1            3                      0.677035\n",
       "2            4                      0.661512\n",
       "3            5                      0.657277\n",
       "4            6                      0.661422\n",
       "5            7                      0.671322\n",
       "6            8                      0.665648\n",
       "7            9                      0.661422\n",
       "8           10                      0.664249"
      ]
     },
     "execution_count": 27,
     "metadata": {},
     "output_type": "execute_result"
    }
   ],
   "source": [
    "df_knn"
   ]
  },
  {
   "cell_type": "markdown",
   "id": "f769c731-4063-46bb-b1a5-2f34714b75a2",
   "metadata": {},
   "source": [
    "As you can see, the best parameter is 2. Now, we train this model on the training data and then make predictions on the test data."
   ]
  },
  {
   "cell_type": "code",
   "execution_count": 28,
   "id": "aa3e3661-7b18-4e93-b289-a0944906bdd9",
   "metadata": {},
   "outputs": [],
   "source": [
    "knn = KNeighborsClassifier(n_neighbors=2)\n",
    "knn.fit(X_train, y_train)\n",
    "predict_knn = knn.predict(X_test)"
   ]
  },
  {
   "cell_type": "markdown",
   "id": "9be43c11-a23b-4e49-90b7-68da5053e055",
   "metadata": {},
   "source": [
    "### accuracy and confusion matrix"
   ]
  },
  {
   "cell_type": "code",
   "execution_count": 29,
   "id": "13c4aac2-8453-4506-8ed9-87056aa698d1",
   "metadata": {},
   "outputs": [
    {
     "name": "stdout",
     "output_type": "stream",
     "text": [
      "Test set Accuracy:  0.6885245901639344\n",
      "Train set Accuracy:  0.8575458392101551\n",
      "[[ 52  54]\n",
      " [ 11 105]]\n",
      "              precision    recall  f1-score   support\n",
      "\n",
      "           0       0.62      0.90      0.73       117\n",
      "           1       0.68      0.46      0.55       112\n",
      "           2       0.88      0.70      0.78        76\n",
      "\n",
      "    accuracy                           0.69       305\n",
      "   macro avg       0.73      0.69      0.69       305\n",
      "weighted avg       0.71      0.69      0.68       305\n",
      "\n"
     ]
    },
    {
     "data": {
      "image/png": "[encoded data removed]",
      "text/plain": [
       "<Figure size 288x288 with 2 Axes>"
      ]
     },
     "metadata": {
      "needs_background": "light"
     },
     "output_type": "display_data"
    },
    {
     "name": "stdout",
     "output_type": "stream",
     "text": [
      "f1 is:  0.6889563294444395\n"
     ]
    }
   ],
   "source": [
    "test_set_acc_knn = metrics.accuracy_score(y_test, predict_knn)\n",
    "train_set_acc_knn = metrics.accuracy_score(y_train, knn.predict(X_train))\n",
    "\n",
    "print(\"Test set Accuracy: \", test_set_acc_knn)\n",
    "print(\"Train set Accuracy: \", train_set_acc_knn)\n",
    "\n",
    "print(confusion_matrix(y_test, predict_knn, labels=[1,0]))\n",
    "print (classification_report(y_test, predict_knn))\n",
    "cm = confusion_matrix(y_test, predict_knn)\n",
    "fig, ax = plt.subplots(figsize=(4,4))\n",
    "sns.heatmap(cm, annot=True)\n",
    "plt.show()\n",
    "\n",
    "print('f1 is: ',f1_score(y_test, predict_knn, average='macro'))"
   ]
  },
  {
   "cell_type": "markdown",
   "id": "7a35caf0-c0e7-4a25-88a4-97243cf91942",
   "metadata": {},
   "source": [
    "As you can see, the accuracy on the test and training data is 69% and 85%, respectively. You can also see the confusion matrix information in the above chart. Additionally, the average accuracy of cross-validation is 71%."
   ]
  },
  {
   "cell_type": "markdown",
   "id": "0377f9ac-b263-4f42-8209-7a4716bb65af",
   "metadata": {},
   "source": [
    "### adding to the dataframe"
   ]
  },
  {
   "cell_type": "code",
   "execution_count": 30,
   "id": "95bb2d9c-c7aa-4d78-a188-bffc358b8bdc",
   "metadata": {},
   "outputs": [],
   "source": [
    "cv_acc = df_knn[df_knn.n_neighbors == 2]['mean acc in cross_validation'].values[0]\n",
    "all_acc_knn = [cv_acc, test_set_acc_knn, train_set_acc_knn]"
   ]
  },
  {
   "cell_type": "code",
   "execution_count": 31,
   "id": "681f5a81-4980-41bf-bdbf-e5e289f3499a",
   "metadata": {},
   "outputs": [],
   "source": [
    "df_acc.loc['KNeighborsClassifier'] = all_acc_knn"
   ]
  },
  {
   "cell_type": "markdown",
   "id": "5428e23f-7f26-4a81-b496-4a1ade3bccd1",
   "metadata": {
    "tags": []
   },
   "source": [
    "# svm"
   ]
  },
  {
   "cell_type": "markdown",
   "id": "7ad49cae-7752-48ce-84d1-8f94e6f84e0e",
   "metadata": {},
   "source": [
    "It's now time for the SVM model. First, we examine which kernel has a higher cross-validation accuracy. So we have:"
   ]
  },
  {
   "cell_type": "code",
   "execution_count": 32,
   "id": "59bf2555-60c0-456d-8b5f-38d2e2d1e82e",
   "metadata": {},
   "outputs": [
    {
     "data": {
      "text/plain": [
       "[0.6995405054440116,\n",
       " 0.6276995305164319,\n",
       " 0.6459994006592749,\n",
       " 0.5613724902607133]"
      ]
     },
     "execution_count": 32,
     "metadata": {},
     "output_type": "execute_result"
    }
   ],
   "source": [
    "from sklearn import svm\n",
    "\n",
    "mean_list = []\n",
    "kernel_list = ['rbf', 'poly', 'linear', 'sigmoid']\n",
    "for kernel in kernel_list:\n",
    "    clf = svm.SVC(kernel=kernel)\n",
    "    scores = cross_val_score(clf, X_train, y_train, cv=5)\n",
    "    mean = scores.mean()\n",
    "    mean_list.append(mean)\n",
    "mean_list"
   ]
  },
  {
   "cell_type": "markdown",
   "id": "e0f97b18-5381-435c-9b9f-696242f1b07e",
   "metadata": {},
   "source": [
    "As you can see, the `rbf` kernel has the highest accuracy. Now it's time to determine which value for the parameter `C` or the regularization parameter, is better. So we have:"
   ]
  },
  {
   "cell_type": "code",
   "execution_count": 33,
   "id": "d1abd5c7-b321-4a8d-8c18-1f8903b40936",
   "metadata": {},
   "outputs": [],
   "source": [
    "C_s = [0.001, 0.005, 0.01, 0.05, 0.1, 0.5, 0.8, 1, 2, 5, 10]\n",
    "df_svm = pd.DataFrame()\n",
    "mean_list = []\n",
    "\n",
    "for C in C_s:\n",
    "    clf = svm.SVC(kernel='rbf', C=C)\n",
    "    scores = cross_val_score(clf, X_train, y_train, cv=5)\n",
    "    mean = scores.mean()\n",
    "    mean_list.append(mean)\n",
    "df_svm['C'] = C_s\n",
    "df_svm['mean acc in cross_validation'] = mean_list"
   ]
  },
  {
   "cell_type": "code",
   "execution_count": 34,
   "id": "575c7695-d326-4d7d-9c98-ed6ef468f820",
   "metadata": {},
   "outputs": [
    {
     "data": {
      "text/html": [
       "<div>\n",
       "<style scoped>\n",
       "    .dataframe tbody tr th:only-of-type {\n",
       "        vertical-align: middle;\n",
       "    }\n",
       "\n",
       "    .dataframe tbody tr th {\n",
       "        vertical-align: top;\n",
       "    }\n",
       "\n",
       "    .dataframe thead th {\n",
       "        text-align: right;\n",
       "    }\n",
       "</style>\n",
       "<table border=\"1\" class=\"dataframe\">\n",
       "  <thead>\n",
       "    <tr style=\"text-align: right;\">\n",
       "      <th></th>\n",
       "      <th>C</th>\n",
       "      <th>mean acc in cross_validation</th>\n",
       "    </tr>\n",
       "  </thead>\n",
       "  <tbody>\n",
       "    <tr>\n",
       "      <th>0</th>\n",
       "      <td>0.001</td>\n",
       "      <td>0.407612</td>\n",
       "    </tr>\n",
       "    <tr>\n",
       "      <th>1</th>\n",
       "      <td>0.005</td>\n",
       "      <td>0.407612</td>\n",
       "    </tr>\n",
       "    <tr>\n",
       "      <th>2</th>\n",
       "      <td>0.010</td>\n",
       "      <td>0.407612</td>\n",
       "    </tr>\n",
       "    <tr>\n",
       "      <th>3</th>\n",
       "      <td>0.050</td>\n",
       "      <td>0.583958</td>\n",
       "    </tr>\n",
       "    <tr>\n",
       "      <th>4</th>\n",
       "      <td>0.100</td>\n",
       "      <td>0.634682</td>\n",
       "    </tr>\n",
       "    <tr>\n",
       "      <th>5</th>\n",
       "      <td>0.500</td>\n",
       "      <td>0.692498</td>\n",
       "    </tr>\n",
       "    <tr>\n",
       "      <th>6</th>\n",
       "      <td>0.800</td>\n",
       "      <td>0.695305</td>\n",
       "    </tr>\n",
       "    <tr>\n",
       "      <th>7</th>\n",
       "      <td>1.000</td>\n",
       "      <td>0.699541</td>\n",
       "    </tr>\n",
       "    <tr>\n",
       "      <th>8</th>\n",
       "      <td>2.000</td>\n",
       "      <td>0.702357</td>\n",
       "    </tr>\n",
       "    <tr>\n",
       "      <th>9</th>\n",
       "      <td>5.000</td>\n",
       "      <td>0.699541</td>\n",
       "    </tr>\n",
       "    <tr>\n",
       "      <th>10</th>\n",
       "      <td>10.000</td>\n",
       "      <td>0.693917</td>\n",
       "    </tr>\n",
       "  </tbody>\n",
       "</table>\n",
       "</div>"
      ],
      "text/plain": [
       "         C  mean acc in cross_validation\n",
       "0    0.001                      0.407612\n",
       "1    0.005                      0.407612\n",
       "2    0.010                      0.407612\n",
       "3    0.050                      0.583958\n",
       "4    0.100                      0.634682\n",
       "5    0.500                      0.692498\n",
       "6    0.800                      0.695305\n",
       "7    1.000                      0.699541\n",
       "8    2.000                      0.702357\n",
       "9    5.000                      0.699541\n",
       "10  10.000                      0.693917"
      ]
     },
     "execution_count": 34,
     "metadata": {},
     "output_type": "execute_result"
    }
   ],
   "source": [
    "df_svm"
   ]
  },
  {
   "cell_type": "markdown",
   "id": "d8639ed8-8e8d-4f46-9d54-b5910045fd78",
   "metadata": {},
   "source": [
    "Parameter \"C=2\" has a higher accuracy. Next, we train the model on the training data and then make predictions on the test data."
   ]
  },
  {
   "cell_type": "code",
   "execution_count": 35,
   "id": "de9d2131-1027-42f6-8604-3114e3975b3d",
   "metadata": {},
   "outputs": [],
   "source": [
    "clf = svm.SVC(kernel='rbf', C=2)\n",
    "clf.fit(X_train, y_train)\n",
    "predict_svm = clf.predict(X_test)"
   ]
  },
  {
   "cell_type": "markdown",
   "id": "2733fd42-202c-48a7-a9ab-eeb8886a26a4",
   "metadata": {},
   "source": [
    "### accuracy and confusion matrix"
   ]
  },
  {
   "cell_type": "code",
   "execution_count": 36,
   "id": "31fd5c4f-a391-4b08-8557-f0e96929df31",
   "metadata": {},
   "outputs": [
    {
     "name": "stdout",
     "output_type": "stream",
     "text": [
      "Test set Accuracy:  0.6950819672131148\n",
      "Train set Accuracy:  0.7362482369534555\n",
      "[[ 41  58]\n",
      " [  7 104]]\n",
      "              precision    recall  f1-score   support\n",
      "\n",
      "           0       0.63      0.89      0.74       117\n",
      "           1       0.76      0.37      0.49       112\n",
      "           2       0.78      0.88      0.83        76\n",
      "\n",
      "    accuracy                           0.70       305\n",
      "   macro avg       0.72      0.71      0.69       305\n",
      "weighted avg       0.71      0.70      0.67       305\n",
      "\n"
     ]
    },
    {
     "data": {
      "image/png": "[encoded data removed]",
      "text/plain": [
       "<Figure size 288x288 with 2 Axes>"
      ]
     },
     "metadata": {
      "needs_background": "light"
     },
     "output_type": "display_data"
    },
    {
     "name": "stdout",
     "output_type": "stream",
     "text": [
      "f1 is:  0.6862416833079626\n"
     ]
    }
   ],
   "source": [
    "test_set_acc_svm = metrics.accuracy_score(y_test, predict_svm)\n",
    "train_set_acc_svm = metrics.accuracy_score(y_train, clf.predict(X_train))\n",
    "\n",
    "print(\"Test set Accuracy: \", test_set_acc_svm)\n",
    "print(\"Train set Accuracy: \", train_set_acc_svm)\n",
    "\n",
    "print(confusion_matrix(y_test, predict_svm, labels=[1,0]))\n",
    "print (classification_report(y_test, predict_svm))\n",
    "cm = confusion_matrix(y_test, predict_svm)\n",
    "fig, ax = plt.subplots(figsize=(4,4))\n",
    "sns.heatmap(cm, annot=True)\n",
    "plt.show()\n",
    "\n",
    "print('f1 is: ',f1_score(y_test, predict_svm, average='macro'))"
   ]
  },
  {
   "cell_type": "markdown",
   "id": "d2d4dfc9-a3a7-4ec7-bfe7-e7365a37ae04",
   "metadata": {},
   "source": [
    "As you can see, the accuracy on the test and training data is 69% and 73%, respectively. You can also view the confusion matrix information in the above chart. Furthermore, the average accuracy of cross-validation is 70%."
   ]
  },
  {
   "cell_type": "markdown",
   "id": "1a064695-639b-4d9f-837a-cf5b688b0277",
   "metadata": {},
   "source": [
    "### adding to dataframe"
   ]
  },
  {
   "cell_type": "code",
   "execution_count": 46,
   "id": "3edec40f-8137-4a0f-9970-db513051ee08",
   "metadata": {},
   "outputs": [],
   "source": [
    "cv_acc = df_svm[df_svm.C == 2]['mean acc in cross_validation'].values[0]\n",
    "all_acc_svm = [cv_acc, test_set_acc_svm, train_set_acc_svm]"
   ]
  },
  {
   "cell_type": "code",
   "execution_count": 47,
   "id": "1088337a-d942-4928-8a12-223220195d9d",
   "metadata": {},
   "outputs": [],
   "source": [
    "df_acc.loc['svm'] = all_acc_svm"
   ]
  },
  {
   "cell_type": "markdown",
   "id": "58e18604-26fd-415f-8de4-209d61d96242",
   "metadata": {},
   "source": [
    "# RandomForestClassifier"
   ]
  },
  {
   "cell_type": "markdown",
   "id": "9864004a-c811-4076-b80e-7ed474ebb22a",
   "metadata": {},
   "source": [
    "This is the RandomForestClassifier model. We calculate the average accuracy scores using different values for the `max_depth` parameter and store them in the DataFrame `df_tree` to determine which parameter value is better."
   ]
  },
  {
   "cell_type": "code",
   "execution_count": 48,
   "id": "fe8f8dc0-284d-41b2-8326-53dd1945d9e1",
   "metadata": {},
   "outputs": [],
   "source": [
    "from sklearn.ensemble import RandomForestClassifier\n",
    "\n",
    "depth_list = [2, 4, 6, 8, 10, 12, 15, 20, 25]\n",
    "df_forest = pd.DataFrame()\n",
    "mean_list = []\n",
    "\n",
    "for depth in depth_list:\n",
    "    forest = RandomForestClassifier(criterion=\"entropy\", max_depth = depth)\n",
    "    scores = cross_val_score(forest, X_train, y_train, cv=5)\n",
    "    mean = scores.mean()\n",
    "    mean_list.append(mean)\n",
    "df_forest['depth'] = depth_list\n",
    "df_forest['mean acc in cross_validation'] = mean_list"
   ]
  },
  {
   "cell_type": "code",
   "execution_count": 49,
   "id": "abb26589-33fa-47ca-baf0-cd10a3f872e9",
   "metadata": {},
   "outputs": [
    {
     "data": {
      "text/html": [
       "<div>\n",
       "<style scoped>\n",
       "    .dataframe tbody tr th:only-of-type {\n",
       "        vertical-align: middle;\n",
       "    }\n",
       "\n",
       "    .dataframe tbody tr th {\n",
       "        vertical-align: top;\n",
       "    }\n",
       "\n",
       "    .dataframe thead th {\n",
       "        text-align: right;\n",
       "    }\n",
       "</style>\n",
       "<table border=\"1\" class=\"dataframe\">\n",
       "  <thead>\n",
       "    <tr style=\"text-align: right;\">\n",
       "      <th></th>\n",
       "      <th>depth</th>\n",
       "      <th>mean acc in cross_validation</th>\n",
       "    </tr>\n",
       "  </thead>\n",
       "  <tbody>\n",
       "    <tr>\n",
       "      <th>0</th>\n",
       "      <td>2</td>\n",
       "      <td>0.636100</td>\n",
       "    </tr>\n",
       "    <tr>\n",
       "      <th>1</th>\n",
       "      <td>4</td>\n",
       "      <td>0.746119</td>\n",
       "    </tr>\n",
       "    <tr>\n",
       "      <th>2</th>\n",
       "      <td>6</td>\n",
       "      <td>0.760234</td>\n",
       "    </tr>\n",
       "    <tr>\n",
       "      <th>3</th>\n",
       "      <td>8</td>\n",
       "      <td>0.792678</td>\n",
       "    </tr>\n",
       "    <tr>\n",
       "      <th>4</th>\n",
       "      <td>10</td>\n",
       "      <td>0.837778</td>\n",
       "    </tr>\n",
       "    <tr>\n",
       "      <th>5</th>\n",
       "      <td>12</td>\n",
       "      <td>0.849046</td>\n",
       "    </tr>\n",
       "    <tr>\n",
       "      <th>6</th>\n",
       "      <td>15</td>\n",
       "      <td>0.849066</td>\n",
       "    </tr>\n",
       "    <tr>\n",
       "      <th>7</th>\n",
       "      <td>20</td>\n",
       "      <td>0.847638</td>\n",
       "    </tr>\n",
       "    <tr>\n",
       "      <th>8</th>\n",
       "      <td>25</td>\n",
       "      <td>0.851883</td>\n",
       "    </tr>\n",
       "  </tbody>\n",
       "</table>\n",
       "</div>"
      ],
      "text/plain": [
       "   depth  mean acc in cross_validation\n",
       "0      2                      0.636100\n",
       "1      4                      0.746119\n",
       "2      6                      0.760234\n",
       "3      8                      0.792678\n",
       "4     10                      0.837778\n",
       "5     12                      0.849046\n",
       "6     15                      0.849066\n",
       "7     20                      0.847638\n",
       "8     25                      0.851883"
      ]
     },
     "execution_count": 49,
     "metadata": {},
     "output_type": "execute_result"
    }
   ],
   "source": [
    "df_forest"
   ]
  },
  {
   "cell_type": "markdown",
   "id": "0430c8a7-8a43-43fd-99c5-e25b69a71e02",
   "metadata": {},
   "source": [
    "It seems that a `max_depth` parameter value of 15 is a good choice. Now, we train our model on the training data and, in the end, make predictions on the test data."
   ]
  },
  {
   "cell_type": "code",
   "execution_count": 51,
   "id": "47c21ee7-1c75-44d6-b72d-8233541ec843",
   "metadata": {},
   "outputs": [],
   "source": [
    "forest = RandomForestClassifier(criterion=\"entropy\", max_depth = 15)\n",
    "forest.fit(X_train, y_train)\n",
    "predict_forest = forest.predict(X_test)"
   ]
  },
  {
   "cell_type": "markdown",
   "id": "0b4d2fa8-bb3a-4fa3-b855-890b10e7e84e",
   "metadata": {},
   "source": [
    "### accuracy and confusion matrix"
   ]
  },
  {
   "cell_type": "code",
   "execution_count": 52,
   "id": "74546d6b-ba0c-4d4e-b82a-98f49bf00cb7",
   "metadata": {},
   "outputs": [
    {
     "name": "stdout",
     "output_type": "stream",
     "text": [
      "Test set Accuracy:  0.8098360655737705\n",
      "Train set Accuracy:  0.9449929478138223\n",
      "[[87 16]\n",
      " [21 91]]\n",
      "              precision    recall  f1-score   support\n",
      "\n",
      "           0       0.83      0.78      0.81       117\n",
      "           1       0.77      0.78      0.77       112\n",
      "           2       0.83      0.91      0.87        76\n",
      "\n",
      "    accuracy                           0.81       305\n",
      "   macro avg       0.81      0.82      0.82       305\n",
      "weighted avg       0.81      0.81      0.81       305\n",
      "\n"
     ]
    },
    {
     "data": {
      "image/png": "[encoded data removed]",
      "text/plain": [
       "<Figure size 288x288 with 2 Axes>"
      ]
     },
     "metadata": {
      "needs_background": "light"
     },
     "output_type": "display_data"
    },
    {
     "name": "stdout",
     "output_type": "stream",
     "text": [
      "f1 is:  0.8155225320494982\n"
     ]
    }
   ],
   "source": [
    "test_set_acc_forest = metrics.accuracy_score(y_test, predict_forest)\n",
    "train_set_acc_forest = metrics.accuracy_score(y_train, forest.predict(X_train))\n",
    "\n",
    "print(\"Test set Accuracy: \", test_set_acc_forest)\n",
    "print(\"Train set Accuracy: \", train_set_acc_forest)\n",
    "\n",
    "print(confusion_matrix(y_test, predict_forest, labels=[1,0]))\n",
    "print (classification_report(y_test, predict_forest))\n",
    "cm = confusion_matrix(y_test, predict_forest)\n",
    "fig, ax = plt.subplots(figsize=(4,4))\n",
    "sns.heatmap(cm, annot=True)\n",
    "plt.show()\n",
    "\n",
    "print('f1 is: ',f1_score(y_test, predict_forest, average='macro'))"
   ]
  },
  {
   "cell_type": "markdown",
   "id": "0e1f40bd-bb7a-4f16-b8b6-54c9db774661",
   "metadata": {},
   "source": [
    "As you can see, the accuracy on the test and training data is 80% and 94%, respectively. You can also see the confusion matrix information in the above chart. Additionally, the average accuracy of cross-validation is 85%."
   ]
  },
  {
   "cell_type": "markdown",
   "id": "34f82bd1-1235-431c-aa9b-086763582fe1",
   "metadata": {},
   "source": [
    "### adding to the dataframe"
   ]
  },
  {
   "cell_type": "code",
   "execution_count": 43,
   "id": "1d04ceb5-f5de-4664-a950-26baa84b7fce",
   "metadata": {},
   "outputs": [],
   "source": [
    "cv_acc = df_forest[df_forest.depth == 15]['mean acc in cross_validation'].values[0]\n",
    "all_acc_forest = [cv_acc, test_set_acc_forest, train_set_acc_forest]"
   ]
  },
  {
   "cell_type": "code",
   "execution_count": 44,
   "id": "5f611bf8-34ae-4c8f-9520-c57562795b8b",
   "metadata": {},
   "outputs": [],
   "source": [
    "df_acc.loc['RandomForestClassifier'] = all_acc_forest"
   ]
  },
  {
   "cell_type": "markdown",
   "id": "19f2681d-8fd1-42cb-9253-6012e079fc60",
   "metadata": {},
   "source": [
    "## Model Comparison\n",
    "\n",
    "In the end, we want to determine which of our trained models performs better in predicting the dataset. As shown in the table below, we have recorded the accuracy values for the test and training datasets, as well as the cross-validation accuracy. In all cases, the RandomForestClassifier model demonstrates the highest accuracy. Therefore, we can conclude that we have found our best model.\n",
    "\n",
    "| Model                   | Test Accuracy | Train Accuracy | Cross-Validation Accuracy |\n",
    "|-------------------------|---------------|----------------|---------------------------|\n",
    "| RandomForestClassifier  | 80%           | 94%            | 85%                       |\n",
    "| DecisionTree            | 80%           | 94%            | 83%                       |\n",
    "| KNeighborsClassifier    | 68%           | 85%            | 71%                       |\n",
    "| SVM                     | 69%           | 73%            | 70%                       |\n",
    "\n",
    "After that, the Decision Tree model performs as well as the RandomForest model. However, the KNN and SVM models did not perform well, achieving test accuracies of 68% and 69%, respectively, which is not acceptable.\n",
    "\n",
    "The RandomForestClassifier model exhibits an accuracy of 94% on the training data, 80% on the test data, and a cross-validation average accuracy of 85%.\n",
    "\n",
    "In conclusion, considering the gap between test and training accuracies, it can be said that this model suffers from overfitting. This issue can be addressed by adding more records. However, it should be noted that having 561 identical records or duplicates does not affect the overfitting problem.\n"
   ]
  },
  {
   "cell_type": "code",
   "execution_count": 53,
   "id": "665e2922-d642-4c4d-a547-fe03431dbc9f",
   "metadata": {},
   "outputs": [
    {
     "data": {
      "text/html": [
       "<div>\n",
       "<style scoped>\n",
       "    .dataframe tbody tr th:only-of-type {\n",
       "        vertical-align: middle;\n",
       "    }\n",
       "\n",
       "    .dataframe tbody tr th {\n",
       "        vertical-align: top;\n",
       "    }\n",
       "\n",
       "    .dataframe thead th {\n",
       "        text-align: right;\n",
       "    }\n",
       "</style>\n",
       "<table border=\"1\" class=\"dataframe\">\n",
       "  <thead>\n",
       "    <tr style=\"text-align: right;\">\n",
       "      <th></th>\n",
       "      <th>cv_acc</th>\n",
       "      <th>test_set_acc</th>\n",
       "      <th>train_set_acc</th>\n",
       "    </tr>\n",
       "  </thead>\n",
       "  <tbody>\n",
       "    <tr>\n",
       "      <th>DecisionTreeClassifier</th>\n",
       "      <td>0.836320</td>\n",
       "      <td>0.790164</td>\n",
       "      <td>0.939351</td>\n",
       "    </tr>\n",
       "    <tr>\n",
       "      <th>KNeighborsClassifier</th>\n",
       "      <td>0.709480</td>\n",
       "      <td>0.688525</td>\n",
       "      <td>0.857546</td>\n",
       "    </tr>\n",
       "    <tr>\n",
       "      <th>svm</th>\n",
       "      <td>0.702357</td>\n",
       "      <td>0.695082</td>\n",
       "      <td>0.736248</td>\n",
       "    </tr>\n",
       "    <tr>\n",
       "      <th>RandomForestClassifier</th>\n",
       "      <td>0.849036</td>\n",
       "      <td>0.809836</td>\n",
       "      <td>0.946403</td>\n",
       "    </tr>\n",
       "  </tbody>\n",
       "</table>\n",
       "</div>"
      ],
      "text/plain": [
       "                          cv_acc  test_set_acc  train_set_acc\n",
       "DecisionTreeClassifier  0.836320      0.790164       0.939351\n",
       "KNeighborsClassifier    0.709480      0.688525       0.857546\n",
       "svm                     0.702357      0.695082       0.736248\n",
       "RandomForestClassifier  0.849036      0.809836       0.946403"
      ]
     },
     "execution_count": 53,
     "metadata": {},
     "output_type": "execute_result"
    }
   ],
   "source": [
    "df_acc"
   ]
  }
 ],
 "metadata": {
  "kernelspec": {
   "display_name": "Python 3 (ipykernel)",
   "language": "python",
   "name": "python3"
  },
  "language_info": {
   "codemirror_mode": {
    "name": "ipython",
    "version": 3
   },
   "file_extension": ".py",
   "mimetype": "text/x-python",
   "name": "python",
   "nbconvert_exporter": "python",
   "pygments_lexer": "ipython3",
   "version": "3.10.2"
  }
 },
 "nbformat": 4,
 "nbformat_minor": 5
}
